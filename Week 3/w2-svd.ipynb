{
 "cells": [
  {
   "cell_type": "code",
   "execution_count": 8,
   "id": "5b0ee606",
   "metadata": {},
   "outputs": [],
   "source": [
    "import numpy as np"
   ]
  },
  {
   "cell_type": "markdown",
   "id": "1424247e",
   "metadata": {},
   "source": [
    "## Calculate SVD through the eigenvalue problem:"
   ]
  },
  {
   "cell_type": "code",
   "execution_count": 9,
   "id": "26c6ecfe",
   "metadata": {},
   "outputs": [
    {
     "data": {
      "text/plain": [
       "array([[ 3,  1,  1],\n",
       "       [-1,  3,  1]])"
      ]
     },
     "execution_count": 9,
     "metadata": {},
     "output_type": "execute_result"
    }
   ],
   "source": [
    "# Create a matrix to calculate SVD of\n",
    "\n",
    "A = np.array([[3, 1, 1],\n",
    "              [-1, 3, 1]])\n",
    "A"
   ]
  },
  {
   "cell_type": "code",
   "execution_count": 10,
   "id": "82cd69ad",
   "metadata": {},
   "outputs": [
    {
     "data": {
      "text/plain": [
       "array([10., 12.])"
      ]
     },
     "execution_count": 10,
     "metadata": {},
     "output_type": "execute_result"
    }
   ],
   "source": [
    "# Calculate eigenvalues of the matrix A * A.T\n",
    "\n",
    "A_1 = np.dot(A, A.T)\n",
    "\n",
    "e_value_1, e_vector_1 = np.linalg.eigh(A_1)\n",
    "e_value_1"
   ]
  },
  {
   "cell_type": "code",
   "execution_count": 11,
   "id": "8104550d",
   "metadata": {},
   "outputs": [
    {
     "data": {
      "text/plain": [
       "array([-2.25970772e-15,  1.00000000e+01,  1.20000000e+01])"
      ]
     },
     "execution_count": 11,
     "metadata": {},
     "output_type": "execute_result"
    }
   ],
   "source": [
    "# Calculate eigenvalues of the matrix A.T * A\n",
    "\n",
    "A_2 = np.dot(A.T, A)\n",
    "\n",
    "e_value_2, e_vector_2 = np.linalg.eigh(A_2)\n",
    "e_value_2 # This should give the same eigenvalues as the previous matrix"
   ]
  },
  {
   "cell_type": "code",
   "execution_count": 12,
   "id": "ef81d7d3",
   "metadata": {},
   "outputs": [],
   "source": [
    "# Arrange eigenvalues and corresponding eigenvectors in descending order\n",
    "\n",
    "idx_1 = e_value_1.argsort()[::-1] # returns the indices of the sorted array in descending order\n",
    "e_value_1 = e_value_1[idx_1]      # sorts the eigenvalue array in descending order\n",
    "e_vector_1 = e_vector_1[:, idx_1] # sort the columns of the eigenvector matrix (every column is a separate eigenvector)\n",
    "\n",
    "idx_2 = e_value_2.argsort()[::-1]\n",
    "e_value_2 = e_value_2[idx_2]\n",
    "e_vector_2 = e_vector_2[:, idx_2]"
   ]
  },
  {
   "cell_type": "code",
   "execution_count": 14,
   "id": "dc6e7b2b",
   "metadata": {},
   "outputs": [
    {
     "data": {
      "text/plain": [
       "array([[-3., -1., -1.],\n",
       "       [ 1., -3., -1.]])"
      ]
     },
     "execution_count": 14,
     "metadata": {},
     "output_type": "execute_result"
    }
   ],
   "source": [
    "# Define the U, S and V matrices from these eigenvalue matrices and reconstruct A from these.\n",
    "\n",
    "temp = np.diag(np.sqrt(e_value_1)) # create a diagonal matrix (square) from the eigenvalues\n",
    "S = np.zeros(A.shape).astype(float) # S is always the same shape as the original matrix\n",
    "S [:temp.shape[0], :temp.shape[1]] = temp\n",
    "\n",
    "U = e_vector_1 # U is the matrix of eigenvectors for A * A.T\n",
    "V = e_vector_2 # V is the matrix of eigenvectors for A.T * A\n",
    "\n",
    "reconstructed_A = np.dot(U, np.dot(S, V.T)) # A = U * S * V.T\n",
    "reconstructed_A # The negative sign is just a scaling factor which is inserted due to the eigenvalue problem we solved."
   ]
  },
  {
   "cell_type": "code",
   "execution_count": 18,
   "id": "cd1d3cf8",
   "metadata": {},
   "outputs": [
    {
     "name": "stdout",
     "output_type": "stream",
     "text": [
      "[[ 0.70710678 -0.70710678]\n",
      " [ 0.70710678  0.70710678]]\n",
      "[[3.46410162 0.         0.        ]\n",
      " [0.         3.16227766 0.        ]]\n",
      "[[-4.08248290e-01  8.94427191e-01 -1.82574186e-01]\n",
      " [-8.16496581e-01 -4.47213595e-01 -3.65148372e-01]\n",
      " [-4.08248290e-01  2.77555756e-16  9.12870929e-01]]\n"
     ]
    }
   ],
   "source": [
    "A\n",
    "print(U)\n",
    "print(S)\n",
    "print(V)"
   ]
  },
  {
   "cell_type": "markdown",
   "id": "98c5d3cd",
   "metadata": {},
   "source": [
    "## Using the numpy library SVD function"
   ]
  },
  {
   "cell_type": "code",
   "execution_count": 19,
   "id": "8fbca079",
   "metadata": {},
   "outputs": [
    {
     "data": {
      "text/plain": [
       "array([3.46410162, 3.16227766])"
      ]
     },
     "execution_count": 19,
     "metadata": {},
     "output_type": "execute_result"
    }
   ],
   "source": [
    "U, S, VT = np.linalg.svd(A)\n",
    "S"
   ]
  },
  {
   "cell_type": "code",
   "execution_count": 20,
   "id": "f292c254",
   "metadata": {},
   "outputs": [
    {
     "data": {
      "text/plain": [
       "array([[ 3.,  1.,  1.],\n",
       "       [-1.,  3.,  1.]])"
      ]
     },
     "execution_count": 20,
     "metadata": {},
     "output_type": "execute_result"
    }
   ],
   "source": [
    "# Reconstruct S again\n",
    "\n",
    "temp = np.diag(S)\n",
    "S = np.zeros(A.shape).astype(float)\n",
    "S [:temp.shape[0], :temp.shape[1]] = temp\n",
    "\n",
    "reconstructed_A = np.dot(U, np.dot(S, VT))\n",
    "reconstructed_A"
   ]
  },
  {
   "cell_type": "code",
   "execution_count": 21,
   "id": "dbb37ee0",
   "metadata": {},
   "outputs": [
    {
     "name": "stdout",
     "output_type": "stream",
     "text": [
      "[[-0.70710678 -0.70710678]\n",
      " [-0.70710678  0.70710678]]\n",
      "[[3.46410162 0.         0.        ]\n",
      " [0.         3.16227766 0.        ]]\n",
      "[[-4.08248290e-01  8.94427191e-01 -1.82574186e-01]\n",
      " [-8.16496581e-01 -4.47213595e-01 -3.65148372e-01]\n",
      " [-4.08248290e-01  2.77555756e-16  9.12870929e-01]]\n"
     ]
    }
   ],
   "source": [
    "print(U)\n",
    "print(S)\n",
    "print(V)"
   ]
  },
  {
   "cell_type": "code",
   "execution_count": 66,
   "id": "50e5143a",
   "metadata": {},
   "outputs": [],
   "source": [
    "import numpy as np "
   ]
  },
  {
   "cell_type": "code",
   "execution_count": 67,
   "id": "69df2a38",
   "metadata": {},
   "outputs": [],
   "source": [
    "A = np.array([[3, 1, 1], [-1, 3, 1]])"
   ]
  },
  {
   "cell_type": "code",
   "execution_count": 68,
   "id": "e4f7de9a",
   "metadata": {},
   "outputs": [],
   "source": [
    "A1 = np.dot(A, A.T)\n",
    "E1, Ev1 = np.linalg.eigh(A1)"
   ]
  },
  {
   "cell_type": "code",
   "execution_count": 69,
   "id": "5d88fd30",
   "metadata": {},
   "outputs": [
    {
     "name": "stdout",
     "output_type": "stream",
     "text": [
      "[10. 12.] \n",
      " [[-0.70710678  0.70710678]\n",
      " [ 0.70710678  0.70710678]]\n"
     ]
    }
   ],
   "source": [
    "print(E1,'\\n',Ev1)"
   ]
  },
  {
   "cell_type": "code",
   "execution_count": 70,
   "id": "c09d1ffb",
   "metadata": {},
   "outputs": [],
   "source": [
    "A2 = np.dot(A.T, A)\n",
    "E2, Ev2 = np.linalg.eigh(A2)"
   ]
  },
  {
   "cell_type": "code",
   "execution_count": 71,
   "id": "e6f5c055",
   "metadata": {},
   "outputs": [
    {
     "name": "stdout",
     "output_type": "stream",
     "text": [
      "[-2.25970772e-15  1.00000000e+01  1.20000000e+01] \n",
      " [[-1.82574186e-01  8.94427191e-01 -4.08248290e-01]\n",
      " [-3.65148372e-01 -4.47213595e-01 -8.16496581e-01]\n",
      " [ 9.12870929e-01  2.77555756e-16 -4.08248290e-01]]\n"
     ]
    }
   ],
   "source": [
    "print(E2,'\\n',Ev2)"
   ]
  },
  {
   "cell_type": "code",
   "execution_count": 72,
   "id": "8466f10c",
   "metadata": {},
   "outputs": [],
   "source": [
    "idx = E1.argsort()[::-1]\n",
    "E1 = E1[idx]\n",
    "U = Ev1[:, idx]\n",
    "\n",
    "idx = E2.argsort()[::-1]\n",
    "E2 = E2[idx]\n",
    "V = Ev2[:, idx]"
   ]
  },
  {
   "cell_type": "code",
   "execution_count": 78,
   "id": "88ddc529",
   "metadata": {},
   "outputs": [],
   "source": [
    "S = np.zeros(A.shape)\n",
    "S[:E1.size, :E1.size] = np.diag(np.sqrt(E1))"
   ]
  },
  {
   "cell_type": "code",
   "execution_count": 79,
   "id": "5fc99ce5",
   "metadata": {},
   "outputs": [
    {
     "name": "stdout",
     "output_type": "stream",
     "text": [
      "[[ 0.70710678 -0.70710678]\n",
      " [ 0.70710678  0.70710678]]\n",
      "[[3.46410162 0.         0.        ]\n",
      " [0.         3.16227766 0.        ]]\n",
      "[[-4.08248290e-01  8.94427191e-01 -1.82574186e-01]\n",
      " [-8.16496581e-01 -4.47213595e-01 -3.65148372e-01]\n",
      " [-4.08248290e-01  2.77555756e-16  9.12870929e-01]]\n"
     ]
    }
   ],
   "source": [
    "print(U)\n",
    "print(S)\n",
    "print(V)"
   ]
  },
  {
   "cell_type": "code",
   "execution_count": 82,
   "id": "7753a1be",
   "metadata": {},
   "outputs": [
    {
     "name": "stdout",
     "output_type": "stream",
     "text": [
      "[[-3. -1. -1.]\n",
      " [ 1. -3. -1.]]\n"
     ]
    }
   ],
   "source": [
    "print(np.dot(U, np.dot(S, V.T)))"
   ]
  },
  {
   "cell_type": "code",
   "execution_count": 76,
   "id": "fb9cde26",
   "metadata": {},
   "outputs": [
    {
     "data": {
      "text/plain": [
       "array([[ 3,  1,  1],\n",
       "       [-1,  3,  1]])"
      ]
     },
     "execution_count": 76,
     "metadata": {},
     "output_type": "execute_result"
    }
   ],
   "source": [
    "A"
   ]
  },
  {
   "cell_type": "code",
   "execution_count": null,
   "id": "243c64ca",
   "metadata": {},
   "outputs": [],
   "source": []
  }
 ],
 "metadata": {
  "kernelspec": {
   "display_name": "Python 3",
   "language": "python",
   "name": "python3"
  },
  "language_info": {
   "codemirror_mode": {
    "name": "ipython",
    "version": 3
   },
   "file_extension": ".py",
   "mimetype": "text/x-python",
   "name": "python",
   "nbconvert_exporter": "python",
   "pygments_lexer": "ipython3",
   "version": "3.9.5"
  }
 },
 "nbformat": 4,
 "nbformat_minor": 5
}
