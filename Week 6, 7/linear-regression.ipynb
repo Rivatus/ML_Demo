{
 "cells": [
  {
   "cell_type": "markdown",
   "metadata": {},
   "source": [
    "# Linear Regression"
   ]
  },
  {
   "cell_type": "markdown",
   "metadata": {},
   "source": [
    "## Seeing Linear Regression in action on a small dataset"
   ]
  },
  {
   "cell_type": "code",
   "execution_count": null,
   "metadata": {
    "scrolled": true
   },
   "outputs": [],
   "source": [
    "import numpy as np\n",
    "import matplotlib.pyplot as plt\n",
    "import pandas as pd"
   ]
  },
  {
   "cell_type": "code",
   "execution_count": null,
   "metadata": {
    "scrolled": true
   },
   "outputs": [],
   "source": [
    "data = np.loadtxt(\"lin_reg.txt\", delimiter = \",\")\n",
    "data.shape"
   ]
  },
  {
   "cell_type": "code",
   "execution_count": null,
   "metadata": {
    "scrolled": true
   },
   "outputs": [],
   "source": [
    "plt.plot(data[:, 0], data[:, 1], \"bo\")"
   ]
  },
  {
   "cell_type": "code",
   "execution_count": null,
   "metadata": {
    "scrolled": true
   },
   "outputs": [],
   "source": [
    "X = data[:, 0]\n",
    "Y = data[:, 1].reshape(data.shape[0], 1)\n",
    "m = X.shape[0]"
   ]
  },
  {
   "cell_type": "code",
   "execution_count": null,
   "metadata": {
    "scrolled": true
   },
   "outputs": [],
   "source": [
    "Y"
   ]
  },
  {
   "cell_type": "code",
   "execution_count": null,
   "metadata": {},
   "outputs": [],
   "source": [
    "X"
   ]
  },
  {
   "cell_type": "code",
   "execution_count": null,
   "metadata": {
    "scrolled": true
   },
   "outputs": [],
   "source": [
    "# add a column of \"ones\" to X. This will allow us to search for the constant parameter theta_0\n",
    "\n",
    "X = np.c_[np.ones(m), X]\n",
    "X"
   ]
  },
  {
   "cell_type": "code",
   "execution_count": null,
   "metadata": {
    "scrolled": true
   },
   "outputs": [],
   "source": [
    "# define some parameters for the regression model\n",
    "\n",
    "alpha = 0.01 # learning rate\n",
    "iterations = 1500 # can be changed to whatever you want\n",
    "theta = np.zeros((2, 1)) # parameters to be calculated"
   ]
  },
  {
   "cell_type": "code",
   "execution_count": null,
   "metadata": {},
   "outputs": [],
   "source": [
    "theta"
   ]
  },
  {
   "cell_type": "code",
   "execution_count": null,
   "metadata": {
    "scrolled": true
   },
   "outputs": [],
   "source": [
    "# defining the cost function\n",
    "\n",
    "def cost(X, y, theta):\n",
    "    J = 1/(2*m) * np.sum((np.dot(X,theta) - y)**2)\n",
    "    \n",
    "    return J"
   ]
  },
  {
   "cell_type": "code",
   "execution_count": null,
   "metadata": {
    "scrolled": true
   },
   "outputs": [],
   "source": [
    "# testing the cost function to see if it works (use different values for theta and see it change)\n",
    "cost(X, Y, [[-3], [8]])"
   ]
  },
  {
   "cell_type": "code",
   "execution_count": null,
   "metadata": {
    "scrolled": true
   },
   "outputs": [],
   "source": [
    "# training the model!\n",
    "\n",
    "history = []\n",
    "\n",
    "for i in range(iterations):\n",
    "    theta = theta - alpha * 1/m * np.dot(X.T, (np.dot(X, theta) - Y))\n",
    "    history.append(cost(X, Y, theta))"
   ]
  },
  {
   "cell_type": "code",
   "execution_count": null,
   "metadata": {
    "scrolled": true
   },
   "outputs": [],
   "source": [
    "# trained parameters!\n",
    "theta"
   ]
  },
  {
   "cell_type": "code",
   "execution_count": null,
   "metadata": {
    "scrolled": false
   },
   "outputs": [],
   "source": [
    "# seeing the results!\n",
    "\n",
    "fig, ax = plt.subplots(figsize = (8,8))\n",
    "ax.plot(X[:,1], Y, \"ro\")\n",
    "ax.plot(X[:,1], np.dot(X, theta))"
   ]
  },
  {
   "cell_type": "markdown",
   "metadata": {},
   "source": [
    "## Predicting Housing Prices in Mumbai (INR) based on their size in Square Feet\n",
    "Data obtained from: https://www.kaggle.com/ruchi798/housing-prices-in-metropolitan-areas-of-india?select=Mumbai.csv"
   ]
  },
  {
   "cell_type": "code",
   "execution_count": null,
   "metadata": {
    "scrolled": true
   },
   "outputs": [],
   "source": [
    "# import a dataset\n",
    "\n",
    "dataset = pd.read_csv('Bangalore.csv')\n",
    "dataset"
   ]
  },
  {
   "cell_type": "code",
   "execution_count": null,
   "metadata": {
    "scrolled": true
   },
   "outputs": [],
   "source": [
    "X_data = dataset.iloc[:, 1].values.reshape(-1,1)\n",
    "Y_data = dataset.iloc[:, 0].values"
   ]
  },
  {
   "cell_type": "code",
   "execution_count": null,
   "metadata": {
    "scrolled": true
   },
   "outputs": [],
   "source": [
    "X_data.shape"
   ]
  },
  {
   "cell_type": "code",
   "execution_count": null,
   "metadata": {
    "scrolled": true
   },
   "outputs": [],
   "source": [
    "plt.scatter(X_data[:,0], Y_data)"
   ]
  },
  {
   "cell_type": "code",
   "execution_count": null,
   "metadata": {
    "scrolled": true
   },
   "outputs": [],
   "source": [
    "X_orig = X_data[X_data < 6000].reshape(-1,1)\n",
    "Y_orig = Y_data[X_data[:,0] < 6000]\n",
    "\n",
    "plt.scatter(X_orig[:,0], Y_orig)"
   ]
  },
  {
   "cell_type": "code",
   "execution_count": null,
   "metadata": {
    "scrolled": true
   },
   "outputs": [],
   "source": [
    "# scaling the input and output arrays\n",
    "from sklearn.preprocessing import StandardScaler\n",
    "\n",
    "# scaling the inputs\n",
    "xscaler = StandardScaler()\n",
    "X = xscaler.fit_transform(X_orig)\n",
    "\n",
    "# scaling the outputs\n",
    "yscaler = StandardScaler()\n",
    "Y = yscaler.fit_transform(Y_orig.reshape(-1,1))"
   ]
  },
  {
   "cell_type": "code",
   "execution_count": null,
   "metadata": {
    "scrolled": true
   },
   "outputs": [],
   "source": [
    "# defining the scikit-learn model\n",
    "\n",
    "from sklearn.model_selection import train_test_split\n",
    "X_Train, X_Test, Y_Train, Y_Test = train_test_split(X, Y, test_size = 1/3, random_state = 0)"
   ]
  },
  {
   "cell_type": "code",
   "execution_count": null,
   "metadata": {
    "scrolled": true
   },
   "outputs": [],
   "source": [
    "# training the scikit-learn model\n",
    "\n",
    "from sklearn.linear_model import LinearRegression\n",
    "regressor = LinearRegression()\n",
    "regressor.fit(X_Train, Y_Train)"
   ]
  },
  {
   "cell_type": "code",
   "execution_count": null,
   "metadata": {
    "scrolled": true
   },
   "outputs": [],
   "source": [
    "Y_Pred = regressor.predict(X_Test)"
   ]
  },
  {
   "cell_type": "code",
   "execution_count": null,
   "metadata": {
    "scrolled": true
   },
   "outputs": [],
   "source": [
    "#visualizing training set results\n",
    "\n",
    "plt.scatter(X_Train[:,0], Y_Train, color = 'red')\n",
    "plt.plot(X_Train[:,0], regressor.predict(X_Train), color = 'blue')\n",
    "plt.title('Price vs Sq. Feet Size  (Training Set)')\n",
    "plt.xlabel('Size (sq.feet)')\n",
    "plt.ylabel('Price')\n",
    "plt.show()"
   ]
  },
  {
   "cell_type": "code",
   "execution_count": null,
   "metadata": {
    "scrolled": false
   },
   "outputs": [],
   "source": [
    "#visualizing test set results\n",
    "\n",
    "plt.scatter(X_Test[:,0], Y_Test, color = 'red')\n",
    "plt.plot(X_Train[:,0], regressor.predict(X_Train), color = 'blue')\n",
    "plt.title('Price vs Sq. Feet Size  (Test Set)')\n",
    "plt.xlabel('Size (sq.feet)')\n",
    "plt.ylabel('Price')\n",
    "plt.show()"
   ]
  },
  {
   "cell_type": "code",
   "execution_count": null,
   "metadata": {
    "scrolled": true
   },
   "outputs": [],
   "source": [
    "#predict function to return price of house given it's size in sq. feet\n",
    "\n",
    "def predict_price(size):\n",
    "    arr = np.array([size]).reshape(-1,1)\n",
    "    pred = regressor.predict(arr)\n",
    "    return pred[0]"
   ]
  },
  {
   "cell_type": "code",
   "execution_count": null,
   "metadata": {
    "scrolled": true
   },
   "outputs": [],
   "source": [
    "X_poly = np.append(X, X**2, axis=1)"
   ]
  }
 ],
 "metadata": {
  "kernelspec": {
   "display_name": "Python 3",
   "language": "python",
   "name": "python3"
  },
  "language_info": {
   "codemirror_mode": {
    "name": "ipython",
    "version": 3
   },
   "file_extension": ".py",
   "mimetype": "text/x-python",
   "name": "python",
   "nbconvert_exporter": "python",
   "pygments_lexer": "ipython3",
   "version": "3.8.10"
  }
 },
 "nbformat": 4,
 "nbformat_minor": 2
}
