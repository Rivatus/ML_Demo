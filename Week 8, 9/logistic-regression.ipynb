{
 "cells": [
  {
   "cell_type": "markdown",
   "id": "cae1620f",
   "metadata": {},
   "source": [
    "# Logistic Regression for Predicting Cat Images"
   ]
  },
  {
   "cell_type": "code",
   "execution_count": null,
   "id": "8b67eba9",
   "metadata": {},
   "outputs": [],
   "source": [
    "import numpy as np\n",
    "import matplotlib.pyplot as plt\n",
    "import h5py\n",
    "import scipy\n",
    "from PIL import Image\n",
    "from scipy import ndimage"
   ]
  },
  {
   "cell_type": "markdown",
   "id": "9268a5ec",
   "metadata": {},
   "source": [
    "## Pre-processing Data"
   ]
  },
  {
   "cell_type": "code",
   "execution_count": null,
   "id": "96e54a00",
   "metadata": {},
   "outputs": [],
   "source": [
    "# defined a function to import training and testing datasets\n",
    "\n",
    "def load_dataset():\n",
    "    train_dataset = h5py.File('train_catvnoncat.h5', \"r\")\n",
    "    train_set_x_orig = np.array(train_dataset[\"train_set_x\"][:]) # your train set features\n",
    "    train_set_y_orig = np.array(train_dataset[\"train_set_y\"][:]) # your train set labels\n",
    "\n",
    "    test_dataset = h5py.File('test_catvnoncat.h5', \"r\")\n",
    "    test_set_x_orig = np.array(test_dataset[\"test_set_x\"][:]) # your test set features\n",
    "    test_set_y_orig = np.array(test_dataset[\"test_set_y\"][:]) # your test set labels\n",
    "    \n",
    "    train_set_y_orig = train_set_y_orig.reshape((1, train_set_y_orig.shape[0]))\n",
    "    test_set_y_orig = test_set_y_orig.reshape((1, test_set_y_orig.shape[0]))\n",
    "    \n",
    "    return train_set_x_orig, train_set_y_orig, test_set_x_orig, test_set_y_orig"
   ]
  },
  {
   "cell_type": "code",
   "execution_count": null,
   "id": "33598322",
   "metadata": {},
   "outputs": [],
   "source": [
    "# load in the data\n",
    "X_train_orig, Y_train, X_test_orig, Y_test = load_dataset()\n",
    "\n",
    "X_train_orig.shape"
   ]
  },
  {
   "cell_type": "code",
   "execution_count": null,
   "id": "e4899000",
   "metadata": {},
   "outputs": [],
   "source": [
    "idx = 60\n",
    "plt.imshow(X_train_orig[idx])\n",
    "Y_train[:,idx]"
   ]
  },
  {
   "cell_type": "code",
   "execution_count": null,
   "id": "3afa4e8f",
   "metadata": {},
   "outputs": [],
   "source": [
    "# reshape inputs in a form suitable for our application\n",
    "\n",
    "X_train_flatten = X_train_orig.reshape(X_train_orig.shape[0], -1).T\n",
    "X_test_flatten = X_test_orig.reshape(X_test_orig.shape[0], -1).T\n",
    "\n",
    "print(X_train_flatten.shape, X_test_flatten.shape)"
   ]
  },
  {
   "cell_type": "code",
   "execution_count": null,
   "id": "267ca88e",
   "metadata": {},
   "outputs": [],
   "source": [
    "# for RGB images, standardize data by just dividing every colour value by 255\n",
    "\n",
    "X_train = X_train_flatten / 255\n",
    "X_test = X_test_flatten / 255"
   ]
  },
  {
   "cell_type": "code",
   "execution_count": null,
   "id": "0bb562ec",
   "metadata": {},
   "outputs": [],
   "source": [
    "X_train[:,2]"
   ]
  },
  {
   "cell_type": "markdown",
   "id": "0d81c957",
   "metadata": {},
   "source": [
    "## Defining parts of the model"
   ]
  },
  {
   "cell_type": "code",
   "execution_count": null,
   "id": "b58f48b6",
   "metadata": {},
   "outputs": [],
   "source": [
    "# define some small data and parameters to test each part\n",
    "X = np.array([[1,2], [3,4]])\n",
    "Y = np.array([[1, 0]])\n",
    "w = np.array([[1], [2]])\n",
    "b = 2\n",
    "\n",
    "X"
   ]
  },
  {
   "cell_type": "code",
   "execution_count": null,
   "id": "13b73246",
   "metadata": {},
   "outputs": [],
   "source": [
    "def sigmoid(z):\n",
    "    s = 1 / (1 + np.exp(-z))\n",
    "    return s"
   ]
  },
  {
   "cell_type": "code",
   "execution_count": null,
   "id": "495e3b4d",
   "metadata": {},
   "outputs": [],
   "source": [
    "sigmoid(X)"
   ]
  },
  {
   "cell_type": "code",
   "execution_count": null,
   "id": "c4f9ceb8",
   "metadata": {},
   "outputs": [],
   "source": [
    "# define forward and backward propagation\n",
    "\n",
    "def propagate(w, b, X, Y):\n",
    "    m = X.shape[1]\n",
    "    \n",
    "    # FORWARD PROPAGATION (FROM X TO COST)\n",
    "    A = sigmoid(np.dot(w.T, X) + b)  # compute activation\n",
    "    cost = (- 1 / m) * np.sum(Y * np.log(A) + (1 - Y) * (np.log(1 - A)))  # compute cost\n",
    "    \n",
    "    # BACKWARD PROPAGATION (TO FIND GRADIENTS)\n",
    "    dZ = A - Y\n",
    "    dw = (1 / m) * np.dot(X, dZ.T)\n",
    "    db = (1 / m) * np.sum(dZ)\n",
    "\n",
    "    cost = np.squeeze(cost) # removes unnecessary dimensions\n",
    "    \n",
    "    grads = {\"dw\": dw,\n",
    "             \"db\": db}\n",
    "    \n",
    "    return grads, cost"
   ]
  },
  {
   "cell_type": "code",
   "execution_count": null,
   "id": "0a9b519a",
   "metadata": {},
   "outputs": [],
   "source": [
    "grads, cost = propagate(w, b, X, Y)\n",
    "print (\"dw = \" + str(grads[\"dw\"]))\n",
    "print (\"db = \" + str(grads[\"db\"]))\n",
    "print (\"cost = \" + str(cost))"
   ]
  },
  {
   "cell_type": "code",
   "execution_count": null,
   "id": "97025c71",
   "metadata": {},
   "outputs": [],
   "source": [
    "# define a function for gradient descent optimization\n",
    "\n",
    "def optimize(X, Y, w, b, iters, learning_rate):\n",
    "    costs = []\n",
    "    \n",
    "    for i in range(iters):\n",
    "        # calculate costs and gradients for current iteration\n",
    "        grads, cost = propagate(w, b, X, Y)\n",
    "        dw = grads[\"dw\"]\n",
    "        db = grads[\"db\"]\n",
    "        \n",
    "        # gradient descent update rule\n",
    "        w = w - learning_rate * dw\n",
    "        b = b - learning_rate * db\n",
    "        \n",
    "        # Record the costs every 100 iterations\n",
    "        if i % 100 == 0:\n",
    "            costs.append(cost)\n",
    "            print (\"Cost after iteration %i: %f\" % (i, cost))\n",
    "        \n",
    "    params = {\"w\": w,\n",
    "              \"b\": b}\n",
    "    \n",
    "    grads = {\"dw\": dw,\n",
    "             \"db\": db}\n",
    "    \n",
    "    return params, grads, costs"
   ]
  },
  {
   "cell_type": "code",
   "execution_count": null,
   "id": "46f2e4d4",
   "metadata": {},
   "outputs": [],
   "source": [
    "params, grads, costs = optimize(X, Y, w, b, iters = 1000, learning_rate = 0.009)\n",
    "\n",
    "print (\"w = \" + str(params[\"w\"]))\n",
    "print (\"b = \" + str(params[\"b\"]))\n",
    "print (\"dw = \" + str(grads[\"dw\"]))\n",
    "print (\"db = \" + str(grads[\"db\"]))"
   ]
  },
  {
   "cell_type": "code",
   "execution_count": null,
   "id": "80c0a511",
   "metadata": {},
   "outputs": [],
   "source": [
    "# function for model prediction on an example\n",
    "\n",
    "def predict(w, b, X):\n",
    "    m = X.shape[1]\n",
    "    Y_prediction = np.zeros((1, m)) # initialize with zeros\n",
    "    w = w.reshape(X.shape[0], 1)\n",
    "    \n",
    "    # Compute vector \"A\" predicting the probabilities of a cat being present in the picture\n",
    "    A = sigmoid(np.dot(w.T, X) + b)\n",
    "    \n",
    "    # Convert probabilities a[0,i] to actual predictions p[0,i]\n",
    "    for i in range(A.shape[1]):\n",
    "        if A[0, i] > 0.5:\n",
    "            Y_prediction[0, i] = 1 \n",
    "        else:\n",
    "            Y_prediction[0, i] = 0\n",
    "    \n",
    "    return Y_prediction"
   ]
  },
  {
   "cell_type": "code",
   "execution_count": null,
   "id": "4e7c28da",
   "metadata": {},
   "outputs": [],
   "source": [
    "predict(w, b, X)"
   ]
  },
  {
   "cell_type": "markdown",
   "id": "5f147478",
   "metadata": {},
   "source": [
    "## Actual model"
   ]
  },
  {
   "cell_type": "code",
   "execution_count": null,
   "id": "ab0c269e",
   "metadata": {},
   "outputs": [],
   "source": [
    "# combine all the functions above into a model\n",
    "\n",
    "def model(X_train, Y_train, X_test, Y_test, num_iterations=2000, learning_rate=0.5):\n",
    "    \n",
    "    # initialize parameters with zeros\n",
    "    dim = X_train.shape[0] # no. of features\n",
    "\n",
    "    w = np.zeros((dim, 1))\n",
    "    b = 0\n",
    "\n",
    "    # Gradient descent\n",
    "    params, grads, costs = optimize(X_train, Y_train, w, b, num_iterations, learning_rate)\n",
    "                           # will perform forward and backpropagation, gradient descent, costs etc.\n",
    "    w = params[\"w\"]\n",
    "    b = params[\"b\"]\n",
    "    \n",
    "    # Predict test/train set examples\n",
    "    Y_prediction_test = predict(w, b, X_test)\n",
    "    Y_prediction_train = predict(w, b, X_train)\n",
    "\n",
    "    # Print train/test Errors\n",
    "    print(\"train accuracy: {} %\".format(100 - np.mean(np.abs(Y_prediction_train - Y_train)) * 100))\n",
    "    print(\"test accuracy: {} %\".format(100 - np.mean(np.abs(Y_prediction_test - Y_test)) * 100))\n",
    "\n",
    "    \n",
    "    d = {\"costs\": costs,\n",
    "         \"Y_prediction_test\": Y_prediction_test, \n",
    "         \"Y_prediction_train\" : Y_prediction_train, \n",
    "         \"w\" : w, \n",
    "         \"b\" : b,\n",
    "         \"learning_rate\" : learning_rate,\n",
    "         \"num_iterations\": num_iterations} # contains all info about the model\n",
    "    \n",
    "    return d"
   ]
  },
  {
   "cell_type": "code",
   "execution_count": null,
   "id": "ab7800f0",
   "metadata": {},
   "outputs": [],
   "source": [
    "d = model(X_train, Y_train, X_test, Y_test, num_iterations = 2000, learning_rate = 0.005)"
   ]
  },
  {
   "cell_type": "code",
   "execution_count": null,
   "id": "0e469c7e",
   "metadata": {},
   "outputs": [],
   "source": [
    "# Predictions for the test set\n",
    "index = 49\n",
    "plt.imshow(X_test[:, index].reshape((64, 64, 3)))\n",
    "print (\"y = \" + str(Y_test[0, index]))\n",
    "print(\"predicted = \" + str(d[\"Y_prediction_test\"][0, index]))"
   ]
  },
  {
   "cell_type": "code",
   "execution_count": null,
   "id": "8668350e",
   "metadata": {},
   "outputs": [],
   "source": [
    "# Plot learning curve (with costs)\n",
    "costs = np.squeeze(d['costs'])\n",
    "plt.plot(costs)\n",
    "plt.ylabel('cost')\n",
    "plt.xlabel('iterations (hundreds)')\n",
    "plt.title(\"Learning rate =\" + str(d[\"learning_rate\"]))\n",
    "plt.show()"
   ]
  },
  {
   "cell_type": "code",
   "execution_count": null,
   "id": "bb557485",
   "metadata": {},
   "outputs": [],
   "source": [
    "# See how changing learning rates changes the accuracies\n",
    "\n",
    "learning_rates = [0.01, 0.001, 0.0001]\n",
    "models = {}\n",
    "for i in learning_rates:\n",
    "    print (\"learning rate is: \" + str(i))\n",
    "    models[str(i)] = model(X_train, Y_train, X_test, Y_test, num_iterations = 1500, learning_rate = i)\n",
    "    print ('\\n\\n')\n",
    "\n",
    "for i in learning_rates:\n",
    "    plt.plot(np.squeeze(models[str(i)][\"costs\"]), label= str(models[str(i)][\"learning_rate\"]))\n",
    "\n",
    "plt.ylabel('cost')\n",
    "plt.xlabel('iterations')\n",
    "plt.legend()"
   ]
  },
  {
   "cell_type": "code",
   "execution_count": null,
   "id": "9e5f2747",
   "metadata": {},
   "outputs": [],
   "source": [
    "d_test = model(X_train, Y_train, X_test, Y_test, num_iterations = 5000, learning_rate = 0.001)"
   ]
  },
  {
   "cell_type": "code",
   "execution_count": null,
   "id": "9e941132",
   "metadata": {},
   "outputs": [],
   "source": []
  }
 ],
 "metadata": {
  "kernelspec": {
   "display_name": "Python 3",
   "language": "python",
   "name": "python3"
  },
  "language_info": {
   "codemirror_mode": {
    "name": "ipython",
    "version": 3
   },
   "file_extension": ".py",
   "mimetype": "text/x-python",
   "name": "python",
   "nbconvert_exporter": "python",
   "pygments_lexer": "ipython3",
   "version": "3.8.10"
  }
 },
 "nbformat": 4,
 "nbformat_minor": 5
}
