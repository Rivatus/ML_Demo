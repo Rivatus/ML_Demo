{
 "cells": [
  {
   "cell_type": "markdown",
   "metadata": {},
   "source": [
    "# Introduction to Python\n",
    "\n",
    "In this tutorial, we'll look at some basic Python code to understand the language and check out some commonly used libraries for Machine Learning. This demo is not meant to teach you the full Python language. For learning more and going in-depth about Python, I recommend you check out the following free courses:\n",
    "- [Programming for Everybody (Getting Started with Python) - University of Michigan, edX](https://www.edx.org/course/programming-for-everybody-getting-started-with-pyt)\n",
    "- [Get started with Python and Anaconda - DataCamp](https://www.datacamp.com/learn-python-with-anaconda?utm_source=adwords_ppc&utm_campaignid=1457170716&utm_adgroupid=59514458794&utm_device=c&utm_keyword=free%20python%20course&utm_matchtype=e&utm_network=g&utm_adpostion=&utm_creative=469789579389&utm_targetid=aud-392016246653:kwd-42522089919&utm_loc_interest_ms=&utm_loc_physical_ms=9061836)\n",
    "- [Introduction to Python Programming - Udacity](https://www.udacity.com/course/introduction-to-python--ud1110)"
   ]
  },
  {
   "cell_type": "markdown",
   "metadata": {},
   "source": [
    "## Basic Python Coding\n",
    "## Defining Variables"
   ]
  },
  {
   "cell_type": "code",
   "execution_count": null,
   "metadata": {},
   "outputs": [],
   "source": [
    "a = 5 # no need for defining any variable type\n",
    "a # Python will always show the output (if any) of the last line entered. In this case, just typing \"a\" will show the value contained in the variable a"
   ]
  },
  {
   "cell_type": "code",
   "execution_count": null,
   "metadata": {},
   "outputs": [],
   "source": [
    "# To print values specifically, use the print command\n",
    "b = 7.93\n",
    "print(\"This is the variable b:\", b)\n",
    "a"
   ]
  },
  {
   "cell_type": "code",
   "execution_count": null,
   "metadata": {},
   "outputs": [],
   "source": [
    "# You can also perform simple arithmetic operations and choose to print them or store them in a variable for later use\n",
    "print(a + 6)\n",
    "c = a * 9\n",
    "d = b/a\n",
    "print(d)\n",
    "c"
   ]
  },
  {
   "cell_type": "code",
   "execution_count": null,
   "metadata": {},
   "outputs": [],
   "source": [
    "# Variables can be re-defined and they will change type based on what value is stored within them\n",
    "print(type(a))\n",
    "a = \"hello world\"\n",
    "type(a)"
   ]
  },
  {
   "cell_type": "markdown",
   "metadata": {},
   "source": [
    "## if-else statements and loops"
   ]
  },
  {
   "cell_type": "code",
   "execution_count": null,
   "metadata": {},
   "outputs": [],
   "source": [
    "# similar to if-else statements in C:\n",
    "x = 37\n",
    "if x%2 == 0: # = for assigning a value to a variable, == for checking conditions\n",
    "    print(\"x is even\")\n",
    "elif x < 20: # shorthand for \"else if\", you can add as many of these as you want\n",
    "    print(\"x is an odd number less than 20\")\n",
    "else:\n",
    "    print(\"x is an odd number greater than 20\")"
   ]
  },
  {
   "cell_type": "code",
   "execution_count": null,
   "metadata": {},
   "outputs": [],
   "source": [
    "# for loops are way easier to define than in C\n",
    "for i in range(1,10): # range generates a list of numbers\n",
    "    print(i, i**2)"
   ]
  },
  {
   "cell_type": "code",
   "execution_count": null,
   "metadata": {},
   "outputs": [],
   "source": [
    "list(range(0,10,2)) # list function makes the range understandable for humans"
   ]
  },
  {
   "cell_type": "code",
   "execution_count": null,
   "metadata": {},
   "outputs": [],
   "source": [
    "print(a)"
   ]
  },
  {
   "cell_type": "code",
   "execution_count": null,
   "metadata": {},
   "outputs": [],
   "source": [
    "for i,char in enumerate(a): # enumerate allows us to get both the index of an entry and the actual value at that index\n",
    "    print(\"%d character:\" %(i), char)"
   ]
  },
  {
   "cell_type": "markdown",
   "metadata": {},
   "source": [
    "## Functions"
   ]
  },
  {
   "cell_type": "code",
   "execution_count": null,
   "metadata": {},
   "outputs": [],
   "source": [
    "def cube(x):\n",
    "    x_cubed = x**3\n",
    "    return x_cubed"
   ]
  },
  {
   "cell_type": "code",
   "execution_count": null,
   "metadata": {},
   "outputs": [],
   "source": [
    "cube(b)"
   ]
  },
  {
   "cell_type": "markdown",
   "metadata": {},
   "source": [
    "## Libraries!"
   ]
  },
  {
   "cell_type": "code",
   "execution_count": null,
   "metadata": {},
   "outputs": [],
   "source": [
    "# The problem with Python lists\n",
    "list1 = [1,2, \"machine learning\",3,4]\n",
    "list2 = [3,6,9,10]\n",
    "list1 + list2 # the result is the most counter-intuitive thing to do"
   ]
  },
  {
   "cell_type": "markdown",
   "metadata": {},
   "source": [
    "### NumPy to the rescue!"
   ]
  },
  {
   "cell_type": "code",
   "execution_count": 1,
   "metadata": {},
   "outputs": [
    {
     "data": {
      "text/plain": [
       "array([ 4,  8, 12, 14])"
      ]
     },
     "execution_count": 1,
     "metadata": {},
     "output_type": "execute_result"
    }
   ],
   "source": [
    "import numpy as np\n",
    "\n",
    "arr1 = np.array([1,2,3,4])\n",
    "arr2 = np.array([3,6,9,10])\n",
    "arr1 + arr2"
   ]
  },
  {
   "cell_type": "code",
   "execution_count": 35,
   "metadata": {},
   "outputs": [
    {
     "name": "stdout",
     "output_type": "stream",
     "text": [
      "[ 1  3  5  7  9 11 13 15 17 19 21 23 25 27 29 31 33 35 37 39]\n"
     ]
    },
    {
     "data": {
      "text/plain": [
       "array([13, 15, 17, 19, 21, 23, 25, 27, 29, 31, 33, 35, 37, 39])"
      ]
     },
     "execution_count": 35,
     "metadata": {},
     "output_type": "execute_result"
    }
   ],
   "source": [
    "# Slicing arrays\n",
    "longArr = np.array(range(1,40,2)) \n",
    "print(longArr)\n",
    "longArr[6:20] "
   ]
  },
  {
   "cell_type": "code",
   "execution_count": 36,
   "metadata": {},
   "outputs": [
    {
     "data": {
      "text/plain": [
       "array([[ 1, 23,  4],\n",
       "       [ 5,  6,  7],\n",
       "       [ 3,  9, 86],\n",
       "       [ 2, 69,  7]])"
      ]
     },
     "execution_count": 36,
     "metadata": {},
     "output_type": "execute_result"
    }
   ],
   "source": [
    "# 2D arrays or matrices\n",
    "arr2d = np.array([[1,23,4], [5,6,7], [3,9,86], [2,69,7]])\n",
    "arr2d"
   ]
  },
  {
   "cell_type": "code",
   "execution_count": 43,
   "metadata": {},
   "outputs": [
    {
     "data": {
      "text/plain": [
       "array([[ 1, 23],\n",
       "       [ 5,  6],\n",
       "       [ 3,  9],\n",
       "       [ 2, 69]])"
      ]
     },
     "execution_count": 43,
     "metadata": {},
     "output_type": "execute_result"
    }
   ],
   "source": [
    "# Slicing 2D arrays\n",
    "arr2d[:, :2]"
   ]
  },
  {
   "cell_type": "code",
   "execution_count": 46,
   "metadata": {},
   "outputs": [
    {
     "data": {
      "text/plain": [
       "(4,)"
      ]
     },
     "execution_count": 46,
     "metadata": {},
     "output_type": "execute_result"
    }
   ],
   "source": [
    "# Array shapes\n",
    "arr1.shape"
   ]
  },
  {
   "cell_type": "code",
   "execution_count": 47,
   "metadata": {},
   "outputs": [
    {
     "name": "stdout",
     "output_type": "stream",
     "text": [
      "(4,)\n",
      "(20,)\n"
     ]
    },
    {
     "data": {
      "text/plain": [
       "(4, 3)"
      ]
     },
     "execution_count": 47,
     "metadata": {},
     "output_type": "execute_result"
    }
   ],
   "source": [
    "print(arr2.shape)\n",
    "print(longArr.shape)\n",
    "arr2d.shape"
   ]
  },
  {
   "cell_type": "code",
   "execution_count": 48,
   "metadata": {},
   "outputs": [
    {
     "name": "stdout",
     "output_type": "stream",
     "text": [
      "[[0. 0. 0. 0. 0. 0. 0. 0.]\n",
      " [0. 0. 0. 0. 0. 0. 0. 0.]\n",
      " [0. 0. 0. 0. 0. 0. 0. 0.]\n",
      " [0. 0. 0. 0. 0. 0. 0. 0.]\n",
      " [0. 0. 0. 0. 0. 0. 0. 0.]\n",
      " [0. 0. 0. 0. 0. 0. 0. 0.]]\n"
     ]
    },
    {
     "data": {
      "text/plain": [
       "array([[1., 1., 1., 1., 1., 1., 1., 1.],\n",
       "       [1., 1., 1., 1., 1., 1., 1., 1.],\n",
       "       [1., 1., 1., 1., 1., 1., 1., 1.]])"
      ]
     },
     "execution_count": 48,
     "metadata": {},
     "output_type": "execute_result"
    }
   ],
   "source": [
    "# Creating Ones and Zeros matrices\n",
    "zarr = np.zeros((6,8))\n",
    "print(zarr)\n",
    "\n",
    "onearr = np.ones((3,8))\n",
    "onearr"
   ]
  },
  {
   "cell_type": "code",
   "execution_count": 53,
   "metadata": {},
   "outputs": [
    {
     "name": "stdout",
     "output_type": "stream",
     "text": [
      "[[ 1 23  4]\n",
      " [ 5  6  7]\n",
      " [ 3  9 86]\n",
      " [ 2 69  7]]\n"
     ]
    },
    {
     "data": {
      "text/plain": [
       "array([[ 1, 23,  4,  5,  6,  7],\n",
       "       [ 3,  9, 86,  2, 69,  7]])"
      ]
     },
     "execution_count": 53,
     "metadata": {},
     "output_type": "execute_result"
    }
   ],
   "source": [
    "# Reshape and Transpose functions\n",
    "arr2d_alt = arr2d.reshape(2,6)\n",
    "print(arr2d)\n",
    "arr2d_alt"
   ]
  },
  {
   "cell_type": "code",
   "execution_count": 54,
   "metadata": {},
   "outputs": [
    {
     "data": {
      "text/plain": [
       "array([[[ 1, 23],\n",
       "        [ 4,  5],\n",
       "        [ 6,  7]],\n",
       "\n",
       "       [[ 3,  9],\n",
       "        [86,  2],\n",
       "        [69,  7]]])"
      ]
     },
     "execution_count": 54,
     "metadata": {},
     "output_type": "execute_result"
    }
   ],
   "source": [
    "arr2d_alt2 = arr2d.reshape(2,3,2)\n",
    "arr2d_alt2"
   ]
  },
  {
   "cell_type": "code",
   "execution_count": 57,
   "metadata": {},
   "outputs": [
    {
     "name": "stdout",
     "output_type": "stream",
     "text": [
      "[[ 1 23  4]\n",
      " [ 5  6  7]\n",
      " [ 3  9 86]\n",
      " [ 2 69  7]]\n"
     ]
    },
    {
     "data": {
      "text/plain": [
       "array([[ 1,  5,  3,  2],\n",
       "       [23,  6,  9, 69],\n",
       "       [ 4,  7, 86,  7]])"
      ]
     },
     "execution_count": 57,
     "metadata": {},
     "output_type": "execute_result"
    }
   ],
   "source": [
    "print(arr2d)\n",
    "arr2d.T"
   ]
  },
  {
   "cell_type": "markdown",
   "metadata": {},
   "source": [
    "### Pandas for big data manipulation"
   ]
  },
  {
   "cell_type": "code",
   "execution_count": 2,
   "metadata": {},
   "outputs": [],
   "source": [
    "import pandas as pd"
   ]
  },
  {
   "cell_type": "code",
   "execution_count": 60,
   "metadata": {},
   "outputs": [
    {
     "data": {
      "text/html": [
       "<div>\n",
       "<style scoped>\n",
       "    .dataframe tbody tr th:only-of-type {\n",
       "        vertical-align: middle;\n",
       "    }\n",
       "\n",
       "    .dataframe tbody tr th {\n",
       "        vertical-align: top;\n",
       "    }\n",
       "\n",
       "    .dataframe thead th {\n",
       "        text-align: right;\n",
       "    }\n",
       "</style>\n",
       "<table border=\"1\" class=\"dataframe\">\n",
       "  <thead>\n",
       "    <tr style=\"text-align: right;\">\n",
       "      <th></th>\n",
       "      <th>City</th>\n",
       "      <th>State</th>\n",
       "      <th>Population (in Lakhs 2011)</th>\n",
       "    </tr>\n",
       "  </thead>\n",
       "  <tbody>\n",
       "    <tr>\n",
       "      <th>0</th>\n",
       "      <td>Bhubaneswar</td>\n",
       "      <td>Odisha</td>\n",
       "      <td>8.37</td>\n",
       "    </tr>\n",
       "    <tr>\n",
       "      <th>1</th>\n",
       "      <td>Mumbai</td>\n",
       "      <td>Maharashtra</td>\n",
       "      <td>125.00</td>\n",
       "    </tr>\n",
       "    <tr>\n",
       "      <th>2</th>\n",
       "      <td>Chennai</td>\n",
       "      <td>Tamil Nadu</td>\n",
       "      <td>70.90</td>\n",
       "    </tr>\n",
       "    <tr>\n",
       "      <th>3</th>\n",
       "      <td>Kolkata</td>\n",
       "      <td>West Bengal</td>\n",
       "      <td>141.00</td>\n",
       "    </tr>\n",
       "    <tr>\n",
       "      <th>4</th>\n",
       "      <td>Hyderabad</td>\n",
       "      <td>Telangana</td>\n",
       "      <td>68.10</td>\n",
       "    </tr>\n",
       "    <tr>\n",
       "      <th>5</th>\n",
       "      <td>Agra</td>\n",
       "      <td>Uttar Pradesh</td>\n",
       "      <td>15.90</td>\n",
       "    </tr>\n",
       "  </tbody>\n",
       "</table>\n",
       "</div>"
      ],
      "text/plain": [
       "          City          State  Population (in Lakhs 2011)\n",
       "0  Bhubaneswar         Odisha                        8.37\n",
       "1       Mumbai    Maharashtra                      125.00\n",
       "2      Chennai     Tamil Nadu                       70.90\n",
       "3      Kolkata    West Bengal                      141.00\n",
       "4    Hyderabad      Telangana                       68.10\n",
       "5         Agra  Uttar Pradesh                       15.90"
      ]
     },
     "execution_count": 60,
     "metadata": {},
     "output_type": "execute_result"
    }
   ],
   "source": [
    "# Creating dataframes and adding data to it\n",
    "cities = pd.DataFrame(columns = [\"City\", \"State\", \"Population (in Lakhs 2011)\"],\n",
    "                      data = [[\"Bhubaneswar\", \"Odisha\", 8.37],\n",
    "                              [\"Mumbai\", \"Maharashtra\", 125],\n",
    "                              [\"Chennai\", \"Tamil Nadu\", 70.9],\n",
    "                              [\"Kolkata\", \"West Bengal\", 141],\n",
    "                              [\"Hyderabad\", \"Telangana\", 68.1],\n",
    "                              [\"Agra\", \"Uttar Pradesh\", 15.9],\n",
    "                      ])\n",
    "\n",
    "cities"
   ]
  },
  {
   "cell_type": "code",
   "execution_count": 77,
   "metadata": {},
   "outputs": [
    {
     "data": {
      "text/html": [
       "<div>\n",
       "<style scoped>\n",
       "    .dataframe tbody tr th:only-of-type {\n",
       "        vertical-align: middle;\n",
       "    }\n",
       "\n",
       "    .dataframe tbody tr th {\n",
       "        vertical-align: top;\n",
       "    }\n",
       "\n",
       "    .dataframe thead th {\n",
       "        text-align: right;\n",
       "    }\n",
       "</style>\n",
       "<table border=\"1\" class=\"dataframe\">\n",
       "  <thead>\n",
       "    <tr style=\"text-align: right;\">\n",
       "      <th></th>\n",
       "      <th>City</th>\n",
       "      <th>State</th>\n",
       "      <th>Population (in Lakhs 2011)</th>\n",
       "    </tr>\n",
       "  </thead>\n",
       "  <tbody>\n",
       "    <tr>\n",
       "      <th>0</th>\n",
       "      <td>Bhubaneswar</td>\n",
       "      <td>Odisha</td>\n",
       "      <td>8.37</td>\n",
       "    </tr>\n",
       "    <tr>\n",
       "      <th>1</th>\n",
       "      <td>Mumbai</td>\n",
       "      <td>Maharashtra</td>\n",
       "      <td>125.00</td>\n",
       "    </tr>\n",
       "    <tr>\n",
       "      <th>2</th>\n",
       "      <td>Chennai</td>\n",
       "      <td>Tamil Nadu</td>\n",
       "      <td>70.90</td>\n",
       "    </tr>\n",
       "    <tr>\n",
       "      <th>3</th>\n",
       "      <td>Kolkata</td>\n",
       "      <td>West Bengal</td>\n",
       "      <td>141.00</td>\n",
       "    </tr>\n",
       "    <tr>\n",
       "      <th>4</th>\n",
       "      <td>Hyderabad</td>\n",
       "      <td>Telangana</td>\n",
       "      <td>68.10</td>\n",
       "    </tr>\n",
       "    <tr>\n",
       "      <th>5</th>\n",
       "      <td>Agra</td>\n",
       "      <td>Uttar Pradesh</td>\n",
       "      <td>15.90</td>\n",
       "    </tr>\n",
       "    <tr>\n",
       "      <th>6</th>\n",
       "      <td>random</td>\n",
       "      <td>fsdfsd</td>\n",
       "      <td>234.00</td>\n",
       "    </tr>\n",
       "  </tbody>\n",
       "</table>\n",
       "</div>"
      ],
      "text/plain": [
       "          City          State  Population (in Lakhs 2011)\n",
       "0  Bhubaneswar         Odisha                        8.37\n",
       "1       Mumbai    Maharashtra                      125.00\n",
       "2      Chennai     Tamil Nadu                       70.90\n",
       "3      Kolkata    West Bengal                      141.00\n",
       "4    Hyderabad      Telangana                       68.10\n",
       "5         Agra  Uttar Pradesh                       15.90\n",
       "6       random         fsdfsd                      234.00"
      ]
     },
     "execution_count": 77,
     "metadata": {},
     "output_type": "execute_result"
    }
   ],
   "source": [
    "row = {\"City\": \"random\", \"State\":\"fsdfsd\", \"Population (in Lakhs 2011)\":234}\n",
    "cities = cities.append(row, ignore_index=True)\n",
    "cities"
   ]
  },
  {
   "cell_type": "code",
   "execution_count": 61,
   "metadata": {},
   "outputs": [
    {
     "data": {
      "text/plain": [
       "0           Odisha\n",
       "1      Maharashtra\n",
       "2       Tamil Nadu\n",
       "3      West Bengal\n",
       "4        Telangana\n",
       "5    Uttar Pradesh\n",
       "dtype: object"
      ]
     },
     "execution_count": 61,
     "metadata": {},
     "output_type": "execute_result"
    }
   ],
   "source": [
    "#Example of a Series\n",
    "states = pd.Series(data = [\"Odisha\", \"Maharashtra\", \"Tamil Nadu\", \"West Bengal\", \"Telangana\", \"Uttar Pradesh\"])\n",
    "states"
   ]
  },
  {
   "cell_type": "code",
   "execution_count": 68,
   "metadata": {},
   "outputs": [
    {
     "data": {
      "text/html": [
       "<div>\n",
       "<style scoped>\n",
       "    .dataframe tbody tr th:only-of-type {\n",
       "        vertical-align: middle;\n",
       "    }\n",
       "\n",
       "    .dataframe tbody tr th {\n",
       "        vertical-align: top;\n",
       "    }\n",
       "\n",
       "    .dataframe thead th {\n",
       "        text-align: right;\n",
       "    }\n",
       "</style>\n",
       "<table border=\"1\" class=\"dataframe\">\n",
       "  <thead>\n",
       "    <tr style=\"text-align: right;\">\n",
       "      <th></th>\n",
       "      <th>State</th>\n",
       "      <th>Population (in Lakhs 2011)</th>\n",
       "    </tr>\n",
       "  </thead>\n",
       "  <tbody>\n",
       "    <tr>\n",
       "      <th>0</th>\n",
       "      <td>Odisha</td>\n",
       "      <td>8.37</td>\n",
       "    </tr>\n",
       "    <tr>\n",
       "      <th>1</th>\n",
       "      <td>Maharashtra</td>\n",
       "      <td>125.00</td>\n",
       "    </tr>\n",
       "    <tr>\n",
       "      <th>2</th>\n",
       "      <td>Tamil Nadu</td>\n",
       "      <td>70.90</td>\n",
       "    </tr>\n",
       "  </tbody>\n",
       "</table>\n",
       "</div>"
      ],
      "text/plain": [
       "         State  Population (in Lakhs 2011)\n",
       "0       Odisha                        8.37\n",
       "1  Maharashtra                      125.00\n",
       "2   Tamil Nadu                       70.90"
      ]
     },
     "execution_count": 68,
     "metadata": {},
     "output_type": "execute_result"
    }
   ],
   "source": [
    "# Selecting columns from this dataframe\n",
    "#cities[[\"State\"]]\n",
    "#cities.loc[:3, \"State\":]\n",
    "cities.iloc[:3, 1:]"
   ]
  },
  {
   "cell_type": "code",
   "execution_count": 69,
   "metadata": {},
   "outputs": [
    {
     "data": {
      "text/html": [
       "<div>\n",
       "<style scoped>\n",
       "    .dataframe tbody tr th:only-of-type {\n",
       "        vertical-align: middle;\n",
       "    }\n",
       "\n",
       "    .dataframe tbody tr th {\n",
       "        vertical-align: top;\n",
       "    }\n",
       "\n",
       "    .dataframe thead th {\n",
       "        text-align: right;\n",
       "    }\n",
       "</style>\n",
       "<table border=\"1\" class=\"dataframe\">\n",
       "  <thead>\n",
       "    <tr style=\"text-align: right;\">\n",
       "      <th></th>\n",
       "      <th>Name</th>\n",
       "      <th>Height (cm)</th>\n",
       "      <th>Qualification</th>\n",
       "    </tr>\n",
       "  </thead>\n",
       "  <tbody>\n",
       "    <tr>\n",
       "      <th>0</th>\n",
       "      <td>Sagnik</td>\n",
       "      <td>179</td>\n",
       "      <td>B.Tech</td>\n",
       "    </tr>\n",
       "    <tr>\n",
       "      <th>1</th>\n",
       "      <td>Rahul</td>\n",
       "      <td>174</td>\n",
       "      <td>M.Tech</td>\n",
       "    </tr>\n",
       "    <tr>\n",
       "      <th>2</th>\n",
       "      <td>Raj</td>\n",
       "      <td>160</td>\n",
       "      <td>M.Sc</td>\n",
       "    </tr>\n",
       "    <tr>\n",
       "      <th>3</th>\n",
       "      <td>Aniket</td>\n",
       "      <td>183</td>\n",
       "      <td>PhD</td>\n",
       "    </tr>\n",
       "  </tbody>\n",
       "</table>\n",
       "</div>"
      ],
      "text/plain": [
       "     Name  Height (cm) Qualification\n",
       "0  Sagnik          179        B.Tech\n",
       "1   Rahul          174        M.Tech\n",
       "2     Raj          160          M.Sc\n",
       "3  Aniket          183           PhD"
      ]
     },
     "execution_count": 69,
     "metadata": {},
     "output_type": "execute_result"
    }
   ],
   "source": [
    "# Add data column-wise and add a new column\n",
    "students = pd.DataFrame({\"Name\": [\"Sagnik\", \"Rahul\", \"Raj\", \"Aniket\"],\n",
    "                         \"Height (cm)\": [179, 174, 160, 183],\n",
    "                         \"Qualification\": [\"B.Tech\", \"M.Tech\", \"M.Sc\", \"PhD\"]\n",
    "                        })\n",
    "\n",
    "students"
   ]
  },
  {
   "cell_type": "code",
   "execution_count": 70,
   "metadata": {},
   "outputs": [
    {
     "data": {
      "text/html": [
       "<div>\n",
       "<style scoped>\n",
       "    .dataframe tbody tr th:only-of-type {\n",
       "        vertical-align: middle;\n",
       "    }\n",
       "\n",
       "    .dataframe tbody tr th {\n",
       "        vertical-align: top;\n",
       "    }\n",
       "\n",
       "    .dataframe thead th {\n",
       "        text-align: right;\n",
       "    }\n",
       "</style>\n",
       "<table border=\"1\" class=\"dataframe\">\n",
       "  <thead>\n",
       "    <tr style=\"text-align: right;\">\n",
       "      <th></th>\n",
       "      <th>Name</th>\n",
       "      <th>Height (cm)</th>\n",
       "      <th>Qualification</th>\n",
       "      <th>Address</th>\n",
       "    </tr>\n",
       "  </thead>\n",
       "  <tbody>\n",
       "    <tr>\n",
       "      <th>0</th>\n",
       "      <td>Sagnik</td>\n",
       "      <td>179</td>\n",
       "      <td>B.Tech</td>\n",
       "      <td>Kolkata</td>\n",
       "    </tr>\n",
       "    <tr>\n",
       "      <th>1</th>\n",
       "      <td>Rahul</td>\n",
       "      <td>174</td>\n",
       "      <td>M.Tech</td>\n",
       "      <td>Bangalore</td>\n",
       "    </tr>\n",
       "    <tr>\n",
       "      <th>2</th>\n",
       "      <td>Raj</td>\n",
       "      <td>160</td>\n",
       "      <td>M.Sc</td>\n",
       "      <td>Mumbai</td>\n",
       "    </tr>\n",
       "    <tr>\n",
       "      <th>3</th>\n",
       "      <td>Aniket</td>\n",
       "      <td>183</td>\n",
       "      <td>PhD</td>\n",
       "      <td>Delhi</td>\n",
       "    </tr>\n",
       "  </tbody>\n",
       "</table>\n",
       "</div>"
      ],
      "text/plain": [
       "     Name  Height (cm) Qualification    Address\n",
       "0  Sagnik          179        B.Tech    Kolkata\n",
       "1   Rahul          174        M.Tech  Bangalore\n",
       "2     Raj          160          M.Sc     Mumbai\n",
       "3  Aniket          183           PhD      Delhi"
      ]
     },
     "execution_count": 70,
     "metadata": {},
     "output_type": "execute_result"
    }
   ],
   "source": [
    "address = [\"Kolkata\", \"Bangalore\", \"Mumbai\", \"Delhi\"]\n",
    "students[\"Address\"] = address\n",
    "students"
   ]
  },
  {
   "cell_type": "code",
   "execution_count": 71,
   "metadata": {},
   "outputs": [
    {
     "data": {
      "text/html": [
       "<div>\n",
       "<style scoped>\n",
       "    .dataframe tbody tr th:only-of-type {\n",
       "        vertical-align: middle;\n",
       "    }\n",
       "\n",
       "    .dataframe tbody tr th {\n",
       "        vertical-align: top;\n",
       "    }\n",
       "\n",
       "    .dataframe thead th {\n",
       "        text-align: right;\n",
       "    }\n",
       "</style>\n",
       "<table border=\"1\" class=\"dataframe\">\n",
       "  <thead>\n",
       "    <tr style=\"text-align: right;\">\n",
       "      <th></th>\n",
       "      <th>carat</th>\n",
       "      <th>cut</th>\n",
       "      <th>color</th>\n",
       "      <th>clarity</th>\n",
       "      <th>depth</th>\n",
       "      <th>table</th>\n",
       "      <th>price</th>\n",
       "      <th>x</th>\n",
       "      <th>y</th>\n",
       "      <th>z</th>\n",
       "    </tr>\n",
       "  </thead>\n",
       "  <tbody>\n",
       "    <tr>\n",
       "      <th>0</th>\n",
       "      <td>0.23</td>\n",
       "      <td>Ideal</td>\n",
       "      <td>E</td>\n",
       "      <td>SI2</td>\n",
       "      <td>61.5</td>\n",
       "      <td>55.0</td>\n",
       "      <td>326</td>\n",
       "      <td>3.95</td>\n",
       "      <td>3.98</td>\n",
       "      <td>2.43</td>\n",
       "    </tr>\n",
       "    <tr>\n",
       "      <th>1</th>\n",
       "      <td>0.21</td>\n",
       "      <td>Premium</td>\n",
       "      <td>E</td>\n",
       "      <td>SI1</td>\n",
       "      <td>59.8</td>\n",
       "      <td>61.0</td>\n",
       "      <td>326</td>\n",
       "      <td>3.89</td>\n",
       "      <td>3.84</td>\n",
       "      <td>2.31</td>\n",
       "    </tr>\n",
       "    <tr>\n",
       "      <th>2</th>\n",
       "      <td>0.23</td>\n",
       "      <td>Good</td>\n",
       "      <td>E</td>\n",
       "      <td>VS1</td>\n",
       "      <td>56.9</td>\n",
       "      <td>65.0</td>\n",
       "      <td>327</td>\n",
       "      <td>4.05</td>\n",
       "      <td>4.07</td>\n",
       "      <td>2.31</td>\n",
       "    </tr>\n",
       "    <tr>\n",
       "      <th>3</th>\n",
       "      <td>0.29</td>\n",
       "      <td>Premium</td>\n",
       "      <td>I</td>\n",
       "      <td>VS2</td>\n",
       "      <td>62.4</td>\n",
       "      <td>58.0</td>\n",
       "      <td>334</td>\n",
       "      <td>4.20</td>\n",
       "      <td>4.23</td>\n",
       "      <td>2.63</td>\n",
       "    </tr>\n",
       "    <tr>\n",
       "      <th>4</th>\n",
       "      <td>0.31</td>\n",
       "      <td>Good</td>\n",
       "      <td>J</td>\n",
       "      <td>SI2</td>\n",
       "      <td>63.3</td>\n",
       "      <td>58.0</td>\n",
       "      <td>335</td>\n",
       "      <td>4.34</td>\n",
       "      <td>4.35</td>\n",
       "      <td>2.75</td>\n",
       "    </tr>\n",
       "    <tr>\n",
       "      <th>...</th>\n",
       "      <td>...</td>\n",
       "      <td>...</td>\n",
       "      <td>...</td>\n",
       "      <td>...</td>\n",
       "      <td>...</td>\n",
       "      <td>...</td>\n",
       "      <td>...</td>\n",
       "      <td>...</td>\n",
       "      <td>...</td>\n",
       "      <td>...</td>\n",
       "    </tr>\n",
       "    <tr>\n",
       "      <th>53935</th>\n",
       "      <td>0.72</td>\n",
       "      <td>Ideal</td>\n",
       "      <td>D</td>\n",
       "      <td>SI1</td>\n",
       "      <td>60.8</td>\n",
       "      <td>57.0</td>\n",
       "      <td>2757</td>\n",
       "      <td>5.75</td>\n",
       "      <td>5.76</td>\n",
       "      <td>3.50</td>\n",
       "    </tr>\n",
       "    <tr>\n",
       "      <th>53936</th>\n",
       "      <td>0.72</td>\n",
       "      <td>Good</td>\n",
       "      <td>D</td>\n",
       "      <td>SI1</td>\n",
       "      <td>63.1</td>\n",
       "      <td>55.0</td>\n",
       "      <td>2757</td>\n",
       "      <td>5.69</td>\n",
       "      <td>5.75</td>\n",
       "      <td>3.61</td>\n",
       "    </tr>\n",
       "    <tr>\n",
       "      <th>53937</th>\n",
       "      <td>0.70</td>\n",
       "      <td>Very Good</td>\n",
       "      <td>D</td>\n",
       "      <td>SI1</td>\n",
       "      <td>62.8</td>\n",
       "      <td>60.0</td>\n",
       "      <td>2757</td>\n",
       "      <td>5.66</td>\n",
       "      <td>5.68</td>\n",
       "      <td>3.56</td>\n",
       "    </tr>\n",
       "    <tr>\n",
       "      <th>53938</th>\n",
       "      <td>0.86</td>\n",
       "      <td>Premium</td>\n",
       "      <td>H</td>\n",
       "      <td>SI2</td>\n",
       "      <td>61.0</td>\n",
       "      <td>58.0</td>\n",
       "      <td>2757</td>\n",
       "      <td>6.15</td>\n",
       "      <td>6.12</td>\n",
       "      <td>3.74</td>\n",
       "    </tr>\n",
       "    <tr>\n",
       "      <th>53939</th>\n",
       "      <td>0.75</td>\n",
       "      <td>Ideal</td>\n",
       "      <td>D</td>\n",
       "      <td>SI2</td>\n",
       "      <td>62.2</td>\n",
       "      <td>55.0</td>\n",
       "      <td>2757</td>\n",
       "      <td>5.83</td>\n",
       "      <td>5.87</td>\n",
       "      <td>3.64</td>\n",
       "    </tr>\n",
       "  </tbody>\n",
       "</table>\n",
       "<p>53940 rows × 10 columns</p>\n",
       "</div>"
      ],
      "text/plain": [
       "       carat        cut color clarity  depth  table  price     x     y     z\n",
       "0       0.23      Ideal     E     SI2   61.5   55.0    326  3.95  3.98  2.43\n",
       "1       0.21    Premium     E     SI1   59.8   61.0    326  3.89  3.84  2.31\n",
       "2       0.23       Good     E     VS1   56.9   65.0    327  4.05  4.07  2.31\n",
       "3       0.29    Premium     I     VS2   62.4   58.0    334  4.20  4.23  2.63\n",
       "4       0.31       Good     J     SI2   63.3   58.0    335  4.34  4.35  2.75\n",
       "...      ...        ...   ...     ...    ...    ...    ...   ...   ...   ...\n",
       "53935   0.72      Ideal     D     SI1   60.8   57.0   2757  5.75  5.76  3.50\n",
       "53936   0.72       Good     D     SI1   63.1   55.0   2757  5.69  5.75  3.61\n",
       "53937   0.70  Very Good     D     SI1   62.8   60.0   2757  5.66  5.68  3.56\n",
       "53938   0.86    Premium     H     SI2   61.0   58.0   2757  6.15  6.12  3.74\n",
       "53939   0.75      Ideal     D     SI2   62.2   55.0   2757  5.83  5.87  3.64\n",
       "\n",
       "[53940 rows x 10 columns]"
      ]
     },
     "execution_count": 71,
     "metadata": {},
     "output_type": "execute_result"
    }
   ],
   "source": [
    "# Read external CSV files and store them in a DataFrame\n",
    "diamonds = pd.read_csv(\"https://raw.githubusercontent.com/mwaskom/seaborn-data/master/diamonds.csv\")\n",
    "\n",
    "diamonds"
   ]
  },
  {
   "cell_type": "code",
   "execution_count": 73,
   "metadata": {},
   "outputs": [
    {
     "data": {
      "text/plain": [
       "carat      0\n",
       "cut        0\n",
       "color      0\n",
       "clarity    0\n",
       "depth      0\n",
       "table      0\n",
       "price      0\n",
       "x          0\n",
       "y          0\n",
       "z          0\n",
       "dtype: int64"
      ]
     },
     "execution_count": 73,
     "metadata": {},
     "output_type": "execute_result"
    }
   ],
   "source": [
    "# Check if this dataframe has any null values\n",
    "diamonds.isnull()\n",
    "diamonds.isnull().sum()"
   ]
  },
  {
   "cell_type": "code",
   "execution_count": 74,
   "metadata": {},
   "outputs": [
    {
     "data": {
      "text/html": [
       "<div>\n",
       "<style scoped>\n",
       "    .dataframe tbody tr th:only-of-type {\n",
       "        vertical-align: middle;\n",
       "    }\n",
       "\n",
       "    .dataframe tbody tr th {\n",
       "        vertical-align: top;\n",
       "    }\n",
       "\n",
       "    .dataframe thead th {\n",
       "        text-align: right;\n",
       "    }\n",
       "</style>\n",
       "<table border=\"1\" class=\"dataframe\">\n",
       "  <thead>\n",
       "    <tr style=\"text-align: right;\">\n",
       "      <th></th>\n",
       "      <th>carat</th>\n",
       "      <th>cut</th>\n",
       "      <th>color</th>\n",
       "      <th>clarity</th>\n",
       "      <th>table</th>\n",
       "      <th>price</th>\n",
       "      <th>x</th>\n",
       "      <th>y</th>\n",
       "      <th>z</th>\n",
       "    </tr>\n",
       "  </thead>\n",
       "  <tbody>\n",
       "    <tr>\n",
       "      <th>0</th>\n",
       "      <td>0.23</td>\n",
       "      <td>Ideal</td>\n",
       "      <td>E</td>\n",
       "      <td>SI2</td>\n",
       "      <td>55.0</td>\n",
       "      <td>326</td>\n",
       "      <td>3.95</td>\n",
       "      <td>3.98</td>\n",
       "      <td>2.43</td>\n",
       "    </tr>\n",
       "    <tr>\n",
       "      <th>1</th>\n",
       "      <td>0.21</td>\n",
       "      <td>Premium</td>\n",
       "      <td>E</td>\n",
       "      <td>SI1</td>\n",
       "      <td>61.0</td>\n",
       "      <td>326</td>\n",
       "      <td>3.89</td>\n",
       "      <td>3.84</td>\n",
       "      <td>2.31</td>\n",
       "    </tr>\n",
       "    <tr>\n",
       "      <th>2</th>\n",
       "      <td>0.23</td>\n",
       "      <td>Good</td>\n",
       "      <td>E</td>\n",
       "      <td>VS1</td>\n",
       "      <td>65.0</td>\n",
       "      <td>327</td>\n",
       "      <td>4.05</td>\n",
       "      <td>4.07</td>\n",
       "      <td>2.31</td>\n",
       "    </tr>\n",
       "    <tr>\n",
       "      <th>3</th>\n",
       "      <td>0.29</td>\n",
       "      <td>Premium</td>\n",
       "      <td>I</td>\n",
       "      <td>VS2</td>\n",
       "      <td>58.0</td>\n",
       "      <td>334</td>\n",
       "      <td>4.20</td>\n",
       "      <td>4.23</td>\n",
       "      <td>2.63</td>\n",
       "    </tr>\n",
       "    <tr>\n",
       "      <th>4</th>\n",
       "      <td>0.31</td>\n",
       "      <td>Good</td>\n",
       "      <td>J</td>\n",
       "      <td>SI2</td>\n",
       "      <td>58.0</td>\n",
       "      <td>335</td>\n",
       "      <td>4.34</td>\n",
       "      <td>4.35</td>\n",
       "      <td>2.75</td>\n",
       "    </tr>\n",
       "    <tr>\n",
       "      <th>...</th>\n",
       "      <td>...</td>\n",
       "      <td>...</td>\n",
       "      <td>...</td>\n",
       "      <td>...</td>\n",
       "      <td>...</td>\n",
       "      <td>...</td>\n",
       "      <td>...</td>\n",
       "      <td>...</td>\n",
       "      <td>...</td>\n",
       "    </tr>\n",
       "    <tr>\n",
       "      <th>53935</th>\n",
       "      <td>0.72</td>\n",
       "      <td>Ideal</td>\n",
       "      <td>D</td>\n",
       "      <td>SI1</td>\n",
       "      <td>57.0</td>\n",
       "      <td>2757</td>\n",
       "      <td>5.75</td>\n",
       "      <td>5.76</td>\n",
       "      <td>3.50</td>\n",
       "    </tr>\n",
       "    <tr>\n",
       "      <th>53936</th>\n",
       "      <td>0.72</td>\n",
       "      <td>Good</td>\n",
       "      <td>D</td>\n",
       "      <td>SI1</td>\n",
       "      <td>55.0</td>\n",
       "      <td>2757</td>\n",
       "      <td>5.69</td>\n",
       "      <td>5.75</td>\n",
       "      <td>3.61</td>\n",
       "    </tr>\n",
       "    <tr>\n",
       "      <th>53937</th>\n",
       "      <td>0.70</td>\n",
       "      <td>Very Good</td>\n",
       "      <td>D</td>\n",
       "      <td>SI1</td>\n",
       "      <td>60.0</td>\n",
       "      <td>2757</td>\n",
       "      <td>5.66</td>\n",
       "      <td>5.68</td>\n",
       "      <td>3.56</td>\n",
       "    </tr>\n",
       "    <tr>\n",
       "      <th>53938</th>\n",
       "      <td>0.86</td>\n",
       "      <td>Premium</td>\n",
       "      <td>H</td>\n",
       "      <td>SI2</td>\n",
       "      <td>58.0</td>\n",
       "      <td>2757</td>\n",
       "      <td>6.15</td>\n",
       "      <td>6.12</td>\n",
       "      <td>3.74</td>\n",
       "    </tr>\n",
       "    <tr>\n",
       "      <th>53939</th>\n",
       "      <td>0.75</td>\n",
       "      <td>Ideal</td>\n",
       "      <td>D</td>\n",
       "      <td>SI2</td>\n",
       "      <td>55.0</td>\n",
       "      <td>2757</td>\n",
       "      <td>5.83</td>\n",
       "      <td>5.87</td>\n",
       "      <td>3.64</td>\n",
       "    </tr>\n",
       "  </tbody>\n",
       "</table>\n",
       "<p>53940 rows × 9 columns</p>\n",
       "</div>"
      ],
      "text/plain": [
       "       carat        cut color clarity  table  price     x     y     z\n",
       "0       0.23      Ideal     E     SI2   55.0    326  3.95  3.98  2.43\n",
       "1       0.21    Premium     E     SI1   61.0    326  3.89  3.84  2.31\n",
       "2       0.23       Good     E     VS1   65.0    327  4.05  4.07  2.31\n",
       "3       0.29    Premium     I     VS2   58.0    334  4.20  4.23  2.63\n",
       "4       0.31       Good     J     SI2   58.0    335  4.34  4.35  2.75\n",
       "...      ...        ...   ...     ...    ...    ...   ...   ...   ...\n",
       "53935   0.72      Ideal     D     SI1   57.0   2757  5.75  5.76  3.50\n",
       "53936   0.72       Good     D     SI1   55.0   2757  5.69  5.75  3.61\n",
       "53937   0.70  Very Good     D     SI1   60.0   2757  5.66  5.68  3.56\n",
       "53938   0.86    Premium     H     SI2   58.0   2757  6.15  6.12  3.74\n",
       "53939   0.75      Ideal     D     SI2   55.0   2757  5.83  5.87  3.64\n",
       "\n",
       "[53940 rows x 9 columns]"
      ]
     },
     "execution_count": 74,
     "metadata": {},
     "output_type": "execute_result"
    }
   ],
   "source": [
    "# Delete a column\n",
    "no_depth = diamonds.drop(\"depth\", axis=1)\n",
    "no_depth"
   ]
  },
  {
   "cell_type": "markdown",
   "metadata": {},
   "source": [
    "### Matplotlib for making cool graphs!"
   ]
  },
  {
   "cell_type": "code",
   "execution_count": 3,
   "metadata": {},
   "outputs": [],
   "source": [
    "# import the library and make it inline to view graphs easier\n",
    "import matplotlib.pyplot as plt\n",
    "%matplotlib inline"
   ]
  },
  {
   "cell_type": "code",
   "execution_count": null,
   "metadata": {},
   "outputs": [],
   "source": [
    "# Taking the functional approach for a simple plot\n",
    "x = np.linspace(0,10,20) #create 20 datapoints in range 0-10\n",
    "y = x**2"
   ]
  },
  {
   "cell_type": "code",
   "execution_count": null,
   "metadata": {},
   "outputs": [],
   "source": [
    "plt.plot(x,y)\n",
    "plt.title(\"Graph of x-squared\")\n",
    "plt.xlabel(\"Inputs\")\n",
    "plt.ylabel(\"Squares\")"
   ]
  },
  {
   "cell_type": "code",
   "execution_count": null,
   "metadata": {},
   "outputs": [],
   "source": [
    "# Taking the Object-Oriented approach\n",
    "fig = plt.figure()\n",
    "ax = fig.add_axes([0, 0, 0.8, 1])\n",
    "\n",
    "#ax.plot(x,y)"
   ]
  },
  {
   "cell_type": "code",
   "execution_count": null,
   "metadata": {},
   "outputs": [],
   "source": [
    "# Creating a grid of plots for multiple graphs\n",
    "\n",
    "fig, axes = plt.subplots(nrows = 3, ncols = 3)\n",
    "plt.tight_layout()\n",
    "\n",
    "#axes[0,1].plot(x,y)\n",
    "#axes[1,2].plot(y,x)"
   ]
  },
  {
   "cell_type": "code",
   "execution_count": null,
   "metadata": {},
   "outputs": [],
   "source": [
    "#Figure size and legend\n",
    "fig = plt.figure(figsize = (8,6))\n",
    "ax = fig.add_axes([0,0,1,1])\n",
    "\n",
    "ax.plot(x, x**2, \"green\", label = \"X-squared\")\n",
    "ax.plot(x, x**3, \"red\", linestyle = \"--\", marker = \"o\", label = \"X-cubed\") # try out some other styles like linewidth, different markers, line styles etc.\n",
    "ax.legend()"
   ]
  },
  {
   "cell_type": "code",
   "execution_count": null,
   "metadata": {},
   "outputs": [],
   "source": [
    "# Other kinds of plots\n",
    "# Histogram\n",
    "\n",
    "x = np.random.randn(1000)\n",
    "plt.hist(x, bins = 10, edgecolor = \"black\");"
   ]
  },
  {
   "cell_type": "code",
   "execution_count": null,
   "metadata": {},
   "outputs": [],
   "source": [
    "#Scatter Plot\n",
    "x = np.linspace(-1, 1, 50)\n",
    "y = np.random.randn(50)\n",
    "\n",
    "plt.scatter(x,y)"
   ]
  },
  {
   "cell_type": "code",
   "execution_count": null,
   "metadata": {},
   "outputs": [],
   "source": [
    "heights = np.random.rand(4)\n",
    "x = np.array([1, 2, 3, 4])\n",
    "\n",
    "plt.bar(x, heights)"
   ]
  },
  {
   "cell_type": "code",
   "execution_count": null,
   "metadata": {},
   "outputs": [],
   "source": [
    "y1 = 3 * np.random.rand(4)\n",
    "y2 = 2 * np.random.rand(4)\n",
    "y3 = [1, 4, 2, 3]\n",
    "\n",
    "plt.bar(x-0.2, y1, width = 0.2, color = \"b\")\n",
    "plt.bar(x, y2, width = 0.2, color = \"g\")\n",
    "plt.bar(x+0.2, y3, width = 0.2, color = \"r\")"
   ]
  },
  {
   "cell_type": "markdown",
   "metadata": {},
   "source": [
    "## Exploring a dataset using Pandas and Matplotlib"
   ]
  },
  {
   "cell_type": "code",
   "execution_count": 5,
   "metadata": {},
   "outputs": [
    {
     "data": {
      "text/html": [
       "<div>\n",
       "<style scoped>\n",
       "    .dataframe tbody tr th:only-of-type {\n",
       "        vertical-align: middle;\n",
       "    }\n",
       "\n",
       "    .dataframe tbody tr th {\n",
       "        vertical-align: top;\n",
       "    }\n",
       "\n",
       "    .dataframe thead th {\n",
       "        text-align: right;\n",
       "    }\n",
       "</style>\n",
       "<table border=\"1\" class=\"dataframe\">\n",
       "  <thead>\n",
       "    <tr style=\"text-align: right;\">\n",
       "      <th></th>\n",
       "      <th>iso2c</th>\n",
       "      <th>iso3c</th>\n",
       "      <th>country</th>\n",
       "      <th>year</th>\n",
       "      <th>gdp_percap</th>\n",
       "      <th>life_expect</th>\n",
       "      <th>population</th>\n",
       "      <th>birth_rate</th>\n",
       "      <th>neonat_mortal_rate</th>\n",
       "      <th>region</th>\n",
       "      <th>income</th>\n",
       "    </tr>\n",
       "  </thead>\n",
       "  <tbody>\n",
       "    <tr>\n",
       "      <th>0</th>\n",
       "      <td>AD</td>\n",
       "      <td>AND</td>\n",
       "      <td>Andorra</td>\n",
       "      <td>1996</td>\n",
       "      <td>NaN</td>\n",
       "      <td>NaN</td>\n",
       "      <td>64291.0</td>\n",
       "      <td>10.9</td>\n",
       "      <td>2.8</td>\n",
       "      <td>Europe &amp; Central Asia</td>\n",
       "      <td>High income</td>\n",
       "    </tr>\n",
       "    <tr>\n",
       "      <th>1</th>\n",
       "      <td>AD</td>\n",
       "      <td>AND</td>\n",
       "      <td>Andorra</td>\n",
       "      <td>1994</td>\n",
       "      <td>NaN</td>\n",
       "      <td>NaN</td>\n",
       "      <td>62707.0</td>\n",
       "      <td>10.9</td>\n",
       "      <td>3.2</td>\n",
       "      <td>Europe &amp; Central Asia</td>\n",
       "      <td>High income</td>\n",
       "    </tr>\n",
       "    <tr>\n",
       "      <th>2</th>\n",
       "      <td>AD</td>\n",
       "      <td>AND</td>\n",
       "      <td>Andorra</td>\n",
       "      <td>2003</td>\n",
       "      <td>NaN</td>\n",
       "      <td>NaN</td>\n",
       "      <td>74783.0</td>\n",
       "      <td>10.3</td>\n",
       "      <td>2.0</td>\n",
       "      <td>Europe &amp; Central Asia</td>\n",
       "      <td>High income</td>\n",
       "    </tr>\n",
       "    <tr>\n",
       "      <th>3</th>\n",
       "      <td>AD</td>\n",
       "      <td>AND</td>\n",
       "      <td>Andorra</td>\n",
       "      <td>1990</td>\n",
       "      <td>NaN</td>\n",
       "      <td>NaN</td>\n",
       "      <td>54511.0</td>\n",
       "      <td>11.9</td>\n",
       "      <td>4.3</td>\n",
       "      <td>Europe &amp; Central Asia</td>\n",
       "      <td>High income</td>\n",
       "    </tr>\n",
       "    <tr>\n",
       "      <th>4</th>\n",
       "      <td>AD</td>\n",
       "      <td>AND</td>\n",
       "      <td>Andorra</td>\n",
       "      <td>2009</td>\n",
       "      <td>NaN</td>\n",
       "      <td>NaN</td>\n",
       "      <td>85474.0</td>\n",
       "      <td>9.9</td>\n",
       "      <td>1.7</td>\n",
       "      <td>Europe &amp; Central Asia</td>\n",
       "      <td>High income</td>\n",
       "    </tr>\n",
       "  </tbody>\n",
       "</table>\n",
       "</div>"
      ],
      "text/plain": [
       "  iso2c iso3c  country  year  gdp_percap  life_expect  population  birth_rate  \\\n",
       "0    AD   AND  Andorra  1996         NaN          NaN     64291.0        10.9   \n",
       "1    AD   AND  Andorra  1994         NaN          NaN     62707.0        10.9   \n",
       "2    AD   AND  Andorra  2003         NaN          NaN     74783.0        10.3   \n",
       "3    AD   AND  Andorra  1990         NaN          NaN     54511.0        11.9   \n",
       "4    AD   AND  Andorra  2009         NaN          NaN     85474.0         9.9   \n",
       "\n",
       "   neonat_mortal_rate                 region       income  \n",
       "0                 2.8  Europe & Central Asia  High income  \n",
       "1                 3.2  Europe & Central Asia  High income  \n",
       "2                 2.0  Europe & Central Asia  High income  \n",
       "3                 4.3  Europe & Central Asia  High income  \n",
       "4                 1.7  Europe & Central Asia  High income  "
      ]
     },
     "execution_count": 5,
     "metadata": {},
     "output_type": "execute_result"
    }
   ],
   "source": [
    "import numpy as np\n",
    "import pandas as pd\n",
    "\n",
    "countries = pd.read_csv(\"nations.csv\")\n",
    "countries.head()"
   ]
  },
  {
   "cell_type": "code",
   "execution_count": 9,
   "metadata": {},
   "outputs": [
    {
     "data": {
      "text/plain": [
       "iso2c                  25\n",
       "iso3c                   0\n",
       "country                 0\n",
       "year                    0\n",
       "gdp_percap            766\n",
       "life_expect           393\n",
       "population             14\n",
       "birth_rate            295\n",
       "neonat_mortal_rate    525\n",
       "region                  0\n",
       "income                  0\n",
       "dtype: int64"
      ]
     },
     "execution_count": 9,
     "metadata": {},
     "output_type": "execute_result"
    }
   ],
   "source": [
    "# Check for null values in the table\n",
    "countries.isnull().sum()"
   ]
  },
  {
   "cell_type": "code",
   "execution_count": 11,
   "metadata": {},
   "outputs": [
    {
     "data": {
      "text/html": [
       "<div>\n",
       "<style scoped>\n",
       "    .dataframe tbody tr th:only-of-type {\n",
       "        vertical-align: middle;\n",
       "    }\n",
       "\n",
       "    .dataframe tbody tr th {\n",
       "        vertical-align: top;\n",
       "    }\n",
       "\n",
       "    .dataframe thead th {\n",
       "        text-align: right;\n",
       "    }\n",
       "</style>\n",
       "<table border=\"1\" class=\"dataframe\">\n",
       "  <thead>\n",
       "    <tr style=\"text-align: right;\">\n",
       "      <th></th>\n",
       "      <th>iso2c</th>\n",
       "      <th>iso3c</th>\n",
       "      <th>country</th>\n",
       "      <th>year</th>\n",
       "      <th>gdp_percap</th>\n",
       "      <th>life_expect</th>\n",
       "      <th>population</th>\n",
       "      <th>birth_rate</th>\n",
       "      <th>neonat_mortal_rate</th>\n",
       "      <th>region</th>\n",
       "      <th>income</th>\n",
       "    </tr>\n",
       "  </thead>\n",
       "  <tbody>\n",
       "    <tr>\n",
       "      <th>0</th>\n",
       "      <td>AD</td>\n",
       "      <td>AND</td>\n",
       "      <td>Andorra</td>\n",
       "      <td>1996</td>\n",
       "      <td>6563.171063</td>\n",
       "      <td>NaN</td>\n",
       "      <td>64291.0</td>\n",
       "      <td>10.9</td>\n",
       "      <td>2.8</td>\n",
       "      <td>Europe &amp; Central Asia</td>\n",
       "      <td>High income</td>\n",
       "    </tr>\n",
       "    <tr>\n",
       "      <th>1</th>\n",
       "      <td>AD</td>\n",
       "      <td>AND</td>\n",
       "      <td>Andorra</td>\n",
       "      <td>1994</td>\n",
       "      <td>6563.171063</td>\n",
       "      <td>NaN</td>\n",
       "      <td>62707.0</td>\n",
       "      <td>10.9</td>\n",
       "      <td>3.2</td>\n",
       "      <td>Europe &amp; Central Asia</td>\n",
       "      <td>High income</td>\n",
       "    </tr>\n",
       "    <tr>\n",
       "      <th>2</th>\n",
       "      <td>AD</td>\n",
       "      <td>AND</td>\n",
       "      <td>Andorra</td>\n",
       "      <td>2003</td>\n",
       "      <td>6563.171063</td>\n",
       "      <td>NaN</td>\n",
       "      <td>74783.0</td>\n",
       "      <td>10.3</td>\n",
       "      <td>2.0</td>\n",
       "      <td>Europe &amp; Central Asia</td>\n",
       "      <td>High income</td>\n",
       "    </tr>\n",
       "    <tr>\n",
       "      <th>3</th>\n",
       "      <td>AD</td>\n",
       "      <td>AND</td>\n",
       "      <td>Andorra</td>\n",
       "      <td>1990</td>\n",
       "      <td>6563.171063</td>\n",
       "      <td>NaN</td>\n",
       "      <td>54511.0</td>\n",
       "      <td>11.9</td>\n",
       "      <td>4.3</td>\n",
       "      <td>Europe &amp; Central Asia</td>\n",
       "      <td>High income</td>\n",
       "    </tr>\n",
       "    <tr>\n",
       "      <th>4</th>\n",
       "      <td>AD</td>\n",
       "      <td>AND</td>\n",
       "      <td>Andorra</td>\n",
       "      <td>2009</td>\n",
       "      <td>6563.171063</td>\n",
       "      <td>NaN</td>\n",
       "      <td>85474.0</td>\n",
       "      <td>9.9</td>\n",
       "      <td>1.7</td>\n",
       "      <td>Europe &amp; Central Asia</td>\n",
       "      <td>High income</td>\n",
       "    </tr>\n",
       "  </tbody>\n",
       "</table>\n",
       "</div>"
      ],
      "text/plain": [
       "  iso2c iso3c  country  year   gdp_percap  life_expect  population  \\\n",
       "0    AD   AND  Andorra  1996  6563.171063          NaN     64291.0   \n",
       "1    AD   AND  Andorra  1994  6563.171063          NaN     62707.0   \n",
       "2    AD   AND  Andorra  2003  6563.171063          NaN     74783.0   \n",
       "3    AD   AND  Andorra  1990  6563.171063          NaN     54511.0   \n",
       "4    AD   AND  Andorra  2009  6563.171063          NaN     85474.0   \n",
       "\n",
       "   birth_rate  neonat_mortal_rate                 region       income  \n",
       "0        10.9                 2.8  Europe & Central Asia  High income  \n",
       "1        10.9                 3.2  Europe & Central Asia  High income  \n",
       "2        10.3                 2.0  Europe & Central Asia  High income  \n",
       "3        11.9                 4.3  Europe & Central Asia  High income  \n",
       "4         9.9                 1.7  Europe & Central Asia  High income  "
      ]
     },
     "execution_count": 11,
     "metadata": {},
     "output_type": "execute_result"
    }
   ],
   "source": [
    "# Fill up missing values in the GDP Per Capita column with the median of all existing GDP values\n",
    "countries['gdp_percap'].fillna(countries['gdp_percap'].median(), inplace=True)\n",
    "\n",
    "countries.head()\n"
   ]
  },
  {
   "cell_type": "code",
   "execution_count": 14,
   "metadata": {},
   "outputs": [
    {
     "data": {
      "text/html": [
       "<div>\n",
       "<style scoped>\n",
       "    .dataframe tbody tr th:only-of-type {\n",
       "        vertical-align: middle;\n",
       "    }\n",
       "\n",
       "    .dataframe tbody tr th {\n",
       "        vertical-align: top;\n",
       "    }\n",
       "\n",
       "    .dataframe thead th {\n",
       "        text-align: right;\n",
       "    }\n",
       "</style>\n",
       "<table border=\"1\" class=\"dataframe\">\n",
       "  <thead>\n",
       "    <tr style=\"text-align: right;\">\n",
       "      <th></th>\n",
       "      <th>year</th>\n",
       "      <th>gdp_percap</th>\n",
       "      <th>life_expect</th>\n",
       "      <th>population</th>\n",
       "      <th>birth_rate</th>\n",
       "      <th>neonat_mortal_rate</th>\n",
       "    </tr>\n",
       "    <tr>\n",
       "      <th>country</th>\n",
       "      <th></th>\n",
       "      <th></th>\n",
       "      <th></th>\n",
       "      <th></th>\n",
       "      <th></th>\n",
       "      <th></th>\n",
       "    </tr>\n",
       "  </thead>\n",
       "  <tbody>\n",
       "    <tr>\n",
       "      <th>Afghanistan</th>\n",
       "      <td>2002</td>\n",
       "      <td>3875.455615</td>\n",
       "      <td>55.730645</td>\n",
       "      <td>21794719.32</td>\n",
       "      <td>44.828320</td>\n",
       "      <td>43.896</td>\n",
       "    </tr>\n",
       "    <tr>\n",
       "      <th>Albania</th>\n",
       "      <td>2002</td>\n",
       "      <td>5641.509114</td>\n",
       "      <td>74.782879</td>\n",
       "      <td>3064024.12</td>\n",
       "      <td>16.351120</td>\n",
       "      <td>10.300</td>\n",
       "    </tr>\n",
       "    <tr>\n",
       "      <th>Algeria</th>\n",
       "      <td>2002</td>\n",
       "      <td>9608.372262</td>\n",
       "      <td>70.871015</td>\n",
       "      <td>32155381.56</td>\n",
       "      <td>23.690920</td>\n",
       "      <td>19.592</td>\n",
       "    </tr>\n",
       "    <tr>\n",
       "      <th>American Samoa</th>\n",
       "      <td>2002</td>\n",
       "      <td>6563.171063</td>\n",
       "      <td>NaN</td>\n",
       "      <td>55224.32</td>\n",
       "      <td>20.150000</td>\n",
       "      <td>NaN</td>\n",
       "    </tr>\n",
       "    <tr>\n",
       "      <th>Andorra</th>\n",
       "      <td>2002</td>\n",
       "      <td>6563.171063</td>\n",
       "      <td>NaN</td>\n",
       "      <td>71471.52</td>\n",
       "      <td>11.013636</td>\n",
       "      <td>2.364</td>\n",
       "    </tr>\n",
       "    <tr>\n",
       "      <th>...</th>\n",
       "      <td>...</td>\n",
       "      <td>...</td>\n",
       "      <td>...</td>\n",
       "      <td>...</td>\n",
       "      <td>...</td>\n",
       "      <td>...</td>\n",
       "    </tr>\n",
       "    <tr>\n",
       "      <th>Virgin Islands (U.S.)</th>\n",
       "      <td>2002</td>\n",
       "      <td>6563.171063</td>\n",
       "      <td>77.669382</td>\n",
       "      <td>106962.24</td>\n",
       "      <td>15.346800</td>\n",
       "      <td>NaN</td>\n",
       "    </tr>\n",
       "    <tr>\n",
       "      <th>West Bank and Gaza</th>\n",
       "      <td>2002</td>\n",
       "      <td>3993.824644</td>\n",
       "      <td>70.838780</td>\n",
       "      <td>3095604.68</td>\n",
       "      <td>39.032080</td>\n",
       "      <td>16.280</td>\n",
       "    </tr>\n",
       "    <tr>\n",
       "      <th>Yemen, Rep.</th>\n",
       "      <td>2002</td>\n",
       "      <td>3374.812254</td>\n",
       "      <td>60.859683</td>\n",
       "      <td>19007433.12</td>\n",
       "      <td>40.061400</td>\n",
       "      <td>34.316</td>\n",
       "    </tr>\n",
       "    <tr>\n",
       "      <th>Zambia</th>\n",
       "      <td>2002</td>\n",
       "      <td>2193.173278</td>\n",
       "      <td>48.324932</td>\n",
       "      <td>11411855.72</td>\n",
       "      <td>43.665360</td>\n",
       "      <td>30.448</td>\n",
       "    </tr>\n",
       "    <tr>\n",
       "      <th>Zimbabwe</th>\n",
       "      <td>2002</td>\n",
       "      <td>1678.366272</td>\n",
       "      <td>48.317740</td>\n",
       "      <td>12729007.48</td>\n",
       "      <td>34.754120</td>\n",
       "      <td>22.444</td>\n",
       "    </tr>\n",
       "  </tbody>\n",
       "</table>\n",
       "<p>211 rows × 6 columns</p>\n",
       "</div>"
      ],
      "text/plain": [
       "                       year   gdp_percap  life_expect   population  \\\n",
       "country                                                              \n",
       "Afghanistan            2002  3875.455615    55.730645  21794719.32   \n",
       "Albania                2002  5641.509114    74.782879   3064024.12   \n",
       "Algeria                2002  9608.372262    70.871015  32155381.56   \n",
       "American Samoa         2002  6563.171063          NaN     55224.32   \n",
       "Andorra                2002  6563.171063          NaN     71471.52   \n",
       "...                     ...          ...          ...          ...   \n",
       "Virgin Islands (U.S.)  2002  6563.171063    77.669382    106962.24   \n",
       "West Bank and Gaza     2002  3993.824644    70.838780   3095604.68   \n",
       "Yemen, Rep.            2002  3374.812254    60.859683  19007433.12   \n",
       "Zambia                 2002  2193.173278    48.324932  11411855.72   \n",
       "Zimbabwe               2002  1678.366272    48.317740  12729007.48   \n",
       "\n",
       "                       birth_rate  neonat_mortal_rate  \n",
       "country                                                \n",
       "Afghanistan             44.828320              43.896  \n",
       "Albania                 16.351120              10.300  \n",
       "Algeria                 23.690920              19.592  \n",
       "American Samoa          20.150000                 NaN  \n",
       "Andorra                 11.013636               2.364  \n",
       "...                           ...                 ...  \n",
       "Virgin Islands (U.S.)   15.346800                 NaN  \n",
       "West Bank and Gaza      39.032080              16.280  \n",
       "Yemen, Rep.             40.061400              34.316  \n",
       "Zambia                  43.665360              30.448  \n",
       "Zimbabwe                34.754120              22.444  \n",
       "\n",
       "[211 rows x 6 columns]"
      ]
     },
     "execution_count": 14,
     "metadata": {},
     "output_type": "execute_result"
    }
   ],
   "source": [
    "# Find the mean GDP per capita of each country. We can group the data by the column \"country\" and find the mean values of all the other columns for the given country for all available years.\n",
    "\n",
    "countries.groupby([\"country\"]).mean()"
   ]
  },
  {
   "cell_type": "code",
   "execution_count": 15,
   "metadata": {},
   "outputs": [
    {
     "data": {
      "text/plain": [
       "country\n",
       "Afghanistan              3875.455615\n",
       "Albania                  5641.509114\n",
       "Algeria                  9608.372262\n",
       "American Samoa           6563.171063\n",
       "Andorra                  6563.171063\n",
       "                            ...     \n",
       "Virgin Islands (U.S.)    6563.171063\n",
       "West Bank and Gaza       3993.824644\n",
       "Yemen, Rep.              3374.812254\n",
       "Zambia                   2193.173278\n",
       "Zimbabwe                 1678.366272\n",
       "Name: gdp_percap, Length: 211, dtype: float64"
      ]
     },
     "execution_count": 15,
     "metadata": {},
     "output_type": "execute_result"
    }
   ],
   "source": [
    "#Store the average GDP per capita in a new table\n",
    "avg_gdp_percap = countries.groupby([\"country\"]).mean()[\"gdp_percap\"]\n",
    "avg_gdp_percap"
   ]
  },
  {
   "cell_type": "code",
   "execution_count": 17,
   "metadata": {},
   "outputs": [
    {
     "data": {
      "text/plain": [
       "country\n",
       "United Arab Emirates    74738.442986\n",
       "Qatar                   70772.168796\n",
       "Brunei Darussalam       63116.905041\n",
       "Luxembourg              62343.738409\n",
       "Kuwait                  58301.181985\n",
       "Name: gdp_percap, dtype: float64"
      ]
     },
     "execution_count": 17,
     "metadata": {},
     "output_type": "execute_result"
    }
   ],
   "source": [
    "# Let's see which countries have the top 5 GDP per capita values\n",
    "\n",
    "top_5 = avg_gdp_percap.sort_values(ascending = False).head(5)\n",
    "top_5"
   ]
  },
  {
   "cell_type": "code",
   "execution_count": 19,
   "metadata": {},
   "outputs": [
    {
     "data": {
      "text/html": [
       "<div>\n",
       "<style scoped>\n",
       "    .dataframe tbody tr th:only-of-type {\n",
       "        vertical-align: middle;\n",
       "    }\n",
       "\n",
       "    .dataframe tbody tr th {\n",
       "        vertical-align: top;\n",
       "    }\n",
       "\n",
       "    .dataframe thead th {\n",
       "        text-align: right;\n",
       "    }\n",
       "</style>\n",
       "<table border=\"1\" class=\"dataframe\">\n",
       "  <thead>\n",
       "    <tr style=\"text-align: right;\">\n",
       "      <th></th>\n",
       "      <th>iso2c</th>\n",
       "      <th>iso3c</th>\n",
       "      <th>country</th>\n",
       "      <th>year</th>\n",
       "      <th>gdp_percap</th>\n",
       "      <th>life_expect</th>\n",
       "      <th>population</th>\n",
       "      <th>birth_rate</th>\n",
       "      <th>neonat_mortal_rate</th>\n",
       "      <th>region</th>\n",
       "      <th>income</th>\n",
       "    </tr>\n",
       "  </thead>\n",
       "  <tbody>\n",
       "    <tr>\n",
       "      <th>25</th>\n",
       "      <td>AE</td>\n",
       "      <td>ARE</td>\n",
       "      <td>United Arab Emirates</td>\n",
       "      <td>1991</td>\n",
       "      <td>73036.996606</td>\n",
       "      <td>72.012293</td>\n",
       "      <td>1913190.0</td>\n",
       "      <td>24.649</td>\n",
       "      <td>7.9</td>\n",
       "      <td>Middle East &amp; North Africa</td>\n",
       "      <td>High income</td>\n",
       "    </tr>\n",
       "    <tr>\n",
       "      <th>26</th>\n",
       "      <td>AE</td>\n",
       "      <td>ARE</td>\n",
       "      <td>United Arab Emirates</td>\n",
       "      <td>1993</td>\n",
       "      <td>71959.877867</td>\n",
       "      <td>72.573024</td>\n",
       "      <td>2127863.0</td>\n",
       "      <td>22.360</td>\n",
       "      <td>7.3</td>\n",
       "      <td>Middle East &amp; North Africa</td>\n",
       "      <td>High income</td>\n",
       "    </tr>\n",
       "    <tr>\n",
       "      <th>27</th>\n",
       "      <td>AE</td>\n",
       "      <td>ARE</td>\n",
       "      <td>United Arab Emirates</td>\n",
       "      <td>2001</td>\n",
       "      <td>83533.555216</td>\n",
       "      <td>74.712878</td>\n",
       "      <td>3217865.0</td>\n",
       "      <td>15.829</td>\n",
       "      <td>5.5</td>\n",
       "      <td>Middle East &amp; North Africa</td>\n",
       "      <td>High income</td>\n",
       "    </tr>\n",
       "    <tr>\n",
       "      <th>28</th>\n",
       "      <td>AE</td>\n",
       "      <td>ARE</td>\n",
       "      <td>United Arab Emirates</td>\n",
       "      <td>1992</td>\n",
       "      <td>73154.277741</td>\n",
       "      <td>72.296415</td>\n",
       "      <td>2019014.0</td>\n",
       "      <td>23.501</td>\n",
       "      <td>7.6</td>\n",
       "      <td>Middle East &amp; North Africa</td>\n",
       "      <td>High income</td>\n",
       "    </tr>\n",
       "    <tr>\n",
       "      <th>29</th>\n",
       "      <td>AE</td>\n",
       "      <td>ARE</td>\n",
       "      <td>United Arab Emirates</td>\n",
       "      <td>1994</td>\n",
       "      <td>74683.888594</td>\n",
       "      <td>72.845585</td>\n",
       "      <td>2238281.0</td>\n",
       "      <td>21.263</td>\n",
       "      <td>6.9</td>\n",
       "      <td>Middle East &amp; North Africa</td>\n",
       "      <td>High income</td>\n",
       "    </tr>\n",
       "  </tbody>\n",
       "</table>\n",
       "</div>"
      ],
      "text/plain": [
       "   iso2c iso3c               country  year    gdp_percap  life_expect  \\\n",
       "25    AE   ARE  United Arab Emirates  1991  73036.996606    72.012293   \n",
       "26    AE   ARE  United Arab Emirates  1993  71959.877867    72.573024   \n",
       "27    AE   ARE  United Arab Emirates  2001  83533.555216    74.712878   \n",
       "28    AE   ARE  United Arab Emirates  1992  73154.277741    72.296415   \n",
       "29    AE   ARE  United Arab Emirates  1994  74683.888594    72.845585   \n",
       "\n",
       "    population  birth_rate  neonat_mortal_rate                      region  \\\n",
       "25   1913190.0      24.649                 7.9  Middle East & North Africa   \n",
       "26   2127863.0      22.360                 7.3  Middle East & North Africa   \n",
       "27   3217865.0      15.829                 5.5  Middle East & North Africa   \n",
       "28   2019014.0      23.501                 7.6  Middle East & North Africa   \n",
       "29   2238281.0      21.263                 6.9  Middle East & North Africa   \n",
       "\n",
       "         income  \n",
       "25  High income  \n",
       "26  High income  \n",
       "27  High income  \n",
       "28  High income  \n",
       "29  High income  "
      ]
     },
     "execution_count": 19,
     "metadata": {},
     "output_type": "execute_result"
    }
   ],
   "source": [
    "# Let's explore UAE to find if it's actually the richest country on a per capita basis\n",
    "uae = countries[countries[\"country\"] == \"United Arab Emirates\"]\n",
    "uae.head()"
   ]
  },
  {
   "cell_type": "code",
   "execution_count": 27,
   "metadata": {},
   "outputs": [
    {
     "data": {
      "text/plain": [
       "<AxesSubplot:xlabel='year'>"
      ]
     },
     "execution_count": 27,
     "metadata": {},
     "output_type": "execute_result"
    },
    {
     "data": {
      "image/png": "[encoded data removed]",
      "text/plain": [
       "<Figure size 864x576 with 1 Axes>"
      ]
     },
     "metadata": {
      "needs_background": "light"
     },
     "output_type": "display_data"
    }
   ],
   "source": [
    "# Let's see the variation of GDP per capita over the years. A bar plot is a good idea here\n",
    "\n",
    "uae.plot.bar(x = 'year', y = 'gdp_percap', figsize = (12,8))"
   ]
  },
  {
   "cell_type": "code",
   "execution_count": 39,
   "metadata": {},
   "outputs": [
    {
     "data": {
      "text/plain": [
       "<BarContainer object of 25 artists>"
      ]
     },
     "execution_count": 39,
     "metadata": {},
     "output_type": "execute_result"
    },
    {
     "data": {
      "image/png": "[encoded data removed]",
      "text/plain": [
       "<Figure size 1080x864 with 3 Axes>"
      ]
     },
     "metadata": {
      "needs_background": "light"
     },
     "output_type": "display_data"
    }
   ],
   "source": [
    "# Let's visualize the change in GDP and Population over the years and see what we can find\n",
    "\n",
    "fig, axes = plt.subplots(nrows = 3, ncols = 1, figsize = (15,12))\n",
    "#plt.tight_layout()\n",
    "\n",
    "axes[0].set_title(\"GDP Per Capita\")\n",
    "axes[0].bar(uae['year'], uae['gdp_percap'], color='r')\n",
    "\n",
    "axes[1].set_title(\"GDP in Billions\")\n",
    "axes[1].bar(uae['year'], (uae['population']*uae['gdp_percap'] / 10**9), color='g')\n",
    "\n",
    "axes[2].set_title(\"Population in Millions\")\n",
    "axes[2].bar(uae['year'], uae['population'] / 10**6, color='b')"
   ]
  },
  {
   "cell_type": "code",
   "execution_count": null,
   "metadata": {},
   "outputs": [],
   "source": []
  }
 ],
 "metadata": {
  "interpreter": {
   "hash": "f695f90523945a6d44170594fab3619fe5e3bbff3fe0c2848ad4695325b9a103"
  },
  "kernelspec": {
   "display_name": "Python 3",
   "language": "python",
   "name": "python3"
  },
  "language_info": {
   "codemirror_mode": {
    "name": "ipython",
    "version": 3
   },
   "file_extension": ".py",
   "mimetype": "text/x-python",
   "name": "python",
   "nbconvert_exporter": "python",
   "pygments_lexer": "ipython3",
   "version": "3.9.5"
  }
 },
 "nbformat": 4,
 "nbformat_minor": 2
}
